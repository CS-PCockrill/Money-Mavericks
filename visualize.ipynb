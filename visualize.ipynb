{
 "cells": [
  {
   "cell_type": "code",
   "execution_count": 2,
   "id": "9991f933-3e87-4373-9431-ffaddf0fbc19",
   "metadata": {
    "tags": []
   },
   "outputs": [],
   "source": [
    "import csv\n",
    "import numpy as np\n",
    "import pandas as pd\n",
    "import matplotlib as plt"
   ]
  },
  {
   "cell_type": "code",
   "execution_count": 3,
   "id": "853874fa-0ea1-4cc4-9f60-0ab32267e7d2",
   "metadata": {
    "tags": []
   },
   "outputs": [],
   "source": [
    "source = './data/2019-combined.csv'"
   ]
  },
  {
   "cell_type": "code",
   "execution_count": 4,
   "id": "c833c50c-d397-4c68-b996-2ce2a5e870b7",
   "metadata": {
    "tags": []
   },
   "outputs": [
    {
     "name": "stdout",
     "output_type": "stream",
     "text": [
      "        State  Education Budget  Unemployment Rate  Population Estimate  \\\n",
      "0     Alabama      2.775338e+09                3.2              4903185   \n",
      "1      Alaska      4.005232e+08                5.6               731545   \n",
      "2     Arizona      5.143402e+09                4.8              7278717   \n",
      "3    Arkansas      1.350409e+09                3.5              3017804   \n",
      "4  California      1.721222e+10                4.1             39512223   \n",
      "\n",
      "  SNAPS household_participants SNAPS individual_participants     SNAPS cost  \\\n",
      "0                      315,551                       667,043  1,032,064,886   \n",
      "1                       35,493                        78,932    171,091,672   \n",
      "2                      345,106                       736,883  1,146,712,214   \n",
      "3                      159,231                       354,917    460,333,605   \n",
      "4                    1,803,402                     3,529,470  5,977,281,299   \n",
      "\n",
      "   SNAPS cost_per_person  SNAPS cost_per_household  \n",
      "0                 272.56                    128.94  \n",
      "1                 401.70                    180.63  \n",
      "2                 276.90                    129.68  \n",
      "3                 240.92                    108.08  \n",
      "4                 276.20                    141.13  \n"
     ]
    }
   ],
   "source": [
    "df = pd.read_csv(source)\n",
    "print(df.head())"
   ]
  },
  {
   "cell_type": "code",
   "execution_count": null,
   "id": "b6903ee3-a45c-48de-b2a3-e8036720645a",
   "metadata": {},
   "outputs": [],
   "source": []
  }
 ],
 "metadata": {
  "kernelspec": {
   "display_name": "Python 3 (ipykernel)",
   "language": "python",
   "name": "python3"
  },
  "language_info": {
   "codemirror_mode": {
    "name": "ipython",
    "version": 3
   },
   "file_extension": ".py",
   "mimetype": "text/x-python",
   "name": "python",
   "nbconvert_exporter": "python",
   "pygments_lexer": "ipython3",
   "version": "3.9.6"
  }
 },
 "nbformat": 4,
 "nbformat_minor": 5
}
