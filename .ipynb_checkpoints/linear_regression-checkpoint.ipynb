{
 "cells": [
  {
   "cell_type": "code",
   "execution_count": 1,
   "id": "79a67a13-ff7f-4c66-99c1-91d4b0445f35",
   "metadata": {
    "tags": []
   },
   "outputs": [],
   "source": [
    "import matplotlib.pyplot as plt\n",
    "import pandas as pd\n",
    "from sklearn.model_selection import train_test_split\n",
    "from sklearn.preprocessing import OneHotEncoder\n",
    "from sklearn.linear_model import LinearRegression\n",
    "import seaborn as sns\n",
    "import statsmodels.api as sm"
   ]
  },
  {
   "cell_type": "code",
   "execution_count": 2,
   "id": "d09ecd0c-0d87-476d-9662-ee0cc753d208",
   "metadata": {
    "tags": []
   },
   "outputs": [],
   "source": [
    "#data_source = '../Money-Mavericks/data/data.csv'\n",
    "data_source = './data/data.csv'\n",
    "df = pd.read_csv(data_source)"
   ]
  },
  {
   "cell_type": "code",
   "execution_count": 3,
   "id": "7ffcfd76-a573-403e-b3b9-9c1b5ea134fa",
   "metadata": {
    "tags": []
   },
   "outputs": [],
   "source": [
    "X = df[[\"Education Budget\", \"Unemployment Rate\", \"Population Estimate\", \"Year\"]]"
   ]
  },
  {
   "cell_type": "code",
   "execution_count": 4,
   "id": "6048f502-12d1-410b-8ab8-897e72c4f432",
   "metadata": {
    "tags": []
   },
   "outputs": [
    {
     "name": "stdout",
     "output_type": "stream",
     "text": [
      "(251, 4)\n",
      "   Education Budget  Unemployment Rate  Population Estimate  Year\n",
      "0      2.729781e+09                6.1              4852347  2015\n",
      "1      4.152387e+08                6.5               737498  2015\n",
      "2      6.241051e+09                6.1              6829676  2015\n",
      "3      1.334963e+09                5.2              2978048  2015\n",
      "4      1.672784e+10                6.2             38918045  2015\n"
     ]
    }
   ],
   "source": [
    "X = pd.get_dummies(data=X, drop_first=True)\n",
    "print(X.shape)\n",
    "print(X.head())"
   ]
  },
  {
   "cell_type": "code",
   "execution_count": 5,
   "id": "70e5e142-fe1a-4bbd-8068-eba8bbffc61d",
   "metadata": {
    "tags": []
   },
   "outputs": [
    {
     "name": "stdout",
     "output_type": "stream",
     "text": [
      "0      1341906577\n",
      "1       168054411\n",
      "2      1459584642\n",
      "3       648769562\n",
      "4      7528039778\n",
      "          ...    \n",
      "246    1002380166\n",
      "247    1192380309\n",
      "248     397899950\n",
      "249     778373061\n",
      "250      36277115\n",
      "Name: SNAPS cost, Length: 251, dtype: int64\n"
     ]
    }
   ],
   "source": [
    "y = df[\"SNAPS cost\"]\n",
    "print(y)"
   ]
  },
  {
   "cell_type": "code",
   "execution_count": 6,
   "id": "8bda2d44-84f8-4cd1-b9ec-b154358be6c9",
   "metadata": {
    "tags": []
   },
   "outputs": [
    {
     "name": "stdout",
     "output_type": "stream",
     "text": [
      "(200, 4)\n",
      "(51, 4)\n",
      "(200,)\n",
      "(51,)\n"
     ]
    }
   ],
   "source": [
    "X_train, X_test, y_train, y_test = train_test_split(X, y, test_size=0.2, random_state=101)\n",
    "print(X_train.shape)\n",
    "print(X_test.shape)\n",
    "print(y_train.shape)\n",
    "print(y_test.shape)"
   ]
  },
  {
   "cell_type": "code",
   "execution_count": 7,
   "id": "95af77ed-09a4-43a8-8afd-f5be191ee679",
   "metadata": {
    "tags": []
   },
   "outputs": [
    {
     "data": {
      "text/html": [
       "<style>#sk-container-id-1 {color: black;background-color: white;}#sk-container-id-1 pre{padding: 0;}#sk-container-id-1 div.sk-toggleable {background-color: white;}#sk-container-id-1 label.sk-toggleable__label {cursor: pointer;display: block;width: 100%;margin-bottom: 0;padding: 0.3em;box-sizing: border-box;text-align: center;}#sk-container-id-1 label.sk-toggleable__label-arrow:before {content: \"▸\";float: left;margin-right: 0.25em;color: #696969;}#sk-container-id-1 label.sk-toggleable__label-arrow:hover:before {color: black;}#sk-container-id-1 div.sk-estimator:hover label.sk-toggleable__label-arrow:before {color: black;}#sk-container-id-1 div.sk-toggleable__content {max-height: 0;max-width: 0;overflow: hidden;text-align: left;background-color: #f0f8ff;}#sk-container-id-1 div.sk-toggleable__content pre {margin: 0.2em;color: black;border-radius: 0.25em;background-color: #f0f8ff;}#sk-container-id-1 input.sk-toggleable__control:checked~div.sk-toggleable__content {max-height: 200px;max-width: 100%;overflow: auto;}#sk-container-id-1 input.sk-toggleable__control:checked~label.sk-toggleable__label-arrow:before {content: \"▾\";}#sk-container-id-1 div.sk-estimator input.sk-toggleable__control:checked~label.sk-toggleable__label {background-color: #d4ebff;}#sk-container-id-1 div.sk-label input.sk-toggleable__control:checked~label.sk-toggleable__label {background-color: #d4ebff;}#sk-container-id-1 input.sk-hidden--visually {border: 0;clip: rect(1px 1px 1px 1px);clip: rect(1px, 1px, 1px, 1px);height: 1px;margin: -1px;overflow: hidden;padding: 0;position: absolute;width: 1px;}#sk-container-id-1 div.sk-estimator {font-family: monospace;background-color: #f0f8ff;border: 1px dotted black;border-radius: 0.25em;box-sizing: border-box;margin-bottom: 0.5em;}#sk-container-id-1 div.sk-estimator:hover {background-color: #d4ebff;}#sk-container-id-1 div.sk-parallel-item::after {content: \"\";width: 100%;border-bottom: 1px solid gray;flex-grow: 1;}#sk-container-id-1 div.sk-label:hover label.sk-toggleable__label {background-color: #d4ebff;}#sk-container-id-1 div.sk-serial::before {content: \"\";position: absolute;border-left: 1px solid gray;box-sizing: border-box;top: 0;bottom: 0;left: 50%;z-index: 0;}#sk-container-id-1 div.sk-serial {display: flex;flex-direction: column;align-items: center;background-color: white;padding-right: 0.2em;padding-left: 0.2em;position: relative;}#sk-container-id-1 div.sk-item {position: relative;z-index: 1;}#sk-container-id-1 div.sk-parallel {display: flex;align-items: stretch;justify-content: center;background-color: white;position: relative;}#sk-container-id-1 div.sk-item::before, #sk-container-id-1 div.sk-parallel-item::before {content: \"\";position: absolute;border-left: 1px solid gray;box-sizing: border-box;top: 0;bottom: 0;left: 50%;z-index: -1;}#sk-container-id-1 div.sk-parallel-item {display: flex;flex-direction: column;z-index: 1;position: relative;background-color: white;}#sk-container-id-1 div.sk-parallel-item:first-child::after {align-self: flex-end;width: 50%;}#sk-container-id-1 div.sk-parallel-item:last-child::after {align-self: flex-start;width: 50%;}#sk-container-id-1 div.sk-parallel-item:only-child::after {width: 0;}#sk-container-id-1 div.sk-dashed-wrapped {border: 1px dashed gray;margin: 0 0.4em 0.5em 0.4em;box-sizing: border-box;padding-bottom: 0.4em;background-color: white;}#sk-container-id-1 div.sk-label label {font-family: monospace;font-weight: bold;display: inline-block;line-height: 1.2em;}#sk-container-id-1 div.sk-label-container {text-align: center;}#sk-container-id-1 div.sk-container {/* jupyter's `normalize.less` sets `[hidden] { display: none; }` but bootstrap.min.css set `[hidden] { display: none !important; }` so we also need the `!important` here to be able to override the default hidden behavior on the sphinx rendered scikit-learn.org. See: https://github.com/scikit-learn/scikit-learn/issues/21755 */display: inline-block !important;position: relative;}#sk-container-id-1 div.sk-text-repr-fallback {display: none;}</style><div id=\"sk-container-id-1\" class=\"sk-top-container\"><div class=\"sk-text-repr-fallback\"><pre>LinearRegression()</pre><b>In a Jupyter environment, please rerun this cell to show the HTML representation or trust the notebook. <br />On GitHub, the HTML representation is unable to render, please try loading this page with nbviewer.org.</b></div><div class=\"sk-container\" hidden><div class=\"sk-item\"><div class=\"sk-estimator sk-toggleable\"><input class=\"sk-toggleable__control sk-hidden--visually\" id=\"sk-estimator-id-1\" type=\"checkbox\" checked><label for=\"sk-estimator-id-1\" class=\"sk-toggleable__label sk-toggleable__label-arrow\">LinearRegression</label><div class=\"sk-toggleable__content\"><pre>LinearRegression()</pre></div></div></div></div></div>"
      ],
      "text/plain": [
       "LinearRegression()"
      ]
     },
     "execution_count": 7,
     "metadata": {},
     "output_type": "execute_result"
    }
   ],
   "source": [
    "model = LinearRegression()\n",
    "model.fit(X_train,y_train)"
   ]
  },
  {
   "cell_type": "code",
   "execution_count": 8,
   "id": "6bc7a7bb-636a-4246-bed0-ad1b8367bb9b",
   "metadata": {
    "tags": []
   },
   "outputs": [
    {
     "name": "stdout",
     "output_type": "stream",
     "text": [
      "52822728799.17006\n"
     ]
    }
   ],
   "source": [
    "print(model.intercept_)"
   ]
  },
  {
   "cell_type": "code",
   "execution_count": 9,
   "id": "746e76d4-57d3-46af-bd44-e59fdde3daff",
   "metadata": {
    "tags": []
   },
   "outputs": [
    {
     "name": "stdout",
     "output_type": "stream",
     "text": [
      "[ 1.87304600e+09  9.91160417e+08  1.15969141e+09  3.80546434e+09\n",
      "  1.59583303e+09  1.10761985e+09  8.09055118e+08  7.50735336e+08\n",
      "  2.29163478e+09  8.26710855e+08  1.48305566e+09  5.19379543e+09\n",
      "  3.72259638e+07  1.35936139e+09  6.53318914e+08  9.54652373e+08\n",
      "  2.03515479e+09  1.17470046e+09  1.47065755e+08  8.73633061e+07\n",
      "  7.49635455e+09  3.96780180e+08  2.08021697e+09  1.08177175e+09\n",
      "  4.40021785e+08  2.51240829e+09  1.47010300e+09  1.04778248e+09\n",
      "  1.89007531e+09  3.87976235e+08  6.93385914e+08  3.84030533e+09\n",
      "  1.20976523e+09  1.46432781e+09  1.87520116e+08  5.20787486e+09\n",
      "  2.33580857e+09 -2.51507261e+07  2.57767280e+09  8.95059125e+08\n",
      "  2.66585681e+09  9.78118295e+08  6.15995657e+08  2.76256907e+09\n",
      "  3.59234734e+08  5.13682213e+06  7.67891999e+07  4.00146230e+09\n",
      "  1.25174127e+09  7.84225151e+08  5.27910634e+08]\n"
     ]
    }
   ],
   "source": [
    "predictions = model.predict(X_test)\n",
    "print(predictions)"
   ]
  },
  {
   "cell_type": "code",
   "execution_count": 10,
   "id": "390ad0cd-2977-44c7-a398-247b24e3800c",
   "metadata": {
    "tags": []
   },
   "outputs": [
    {
     "data": {
      "text/plain": [
       "<Axes: xlabel='SNAPS cost'>"
      ]
     },
     "execution_count": 10,
     "metadata": {},
     "output_type": "execute_result"
    },
    {
     "data": {
      "image/png": "[encoded data removed]",
      "text/plain": [
       "<Figure size 640x480 with 1 Axes>"
      ]
     },
     "metadata": {},
     "output_type": "display_data"
    }
   ],
   "source": [
    "sns.regplot(x=y_test,y=predictions)"
   ]
  },
  {
   "cell_type": "code",
   "execution_count": 12,
   "id": "4958b39b-db16-4cb2-870d-c51ca51b68a3",
   "metadata": {
    "tags": []
   },
   "outputs": [
    {
     "name": "stdout",
     "output_type": "stream",
     "text": [
      "                            OLS Regression Results                            \n",
      "==============================================================================\n",
      "Dep. Variable:             SNAPS cost   R-squared:                       0.947\n",
      "Model:                            OLS   Adj. R-squared:                  0.946\n",
      "Method:                 Least Squares   F-statistic:                     874.2\n",
      "Date:                Fri, 24 Mar 2023   Prob (F-statistic):          2.79e-123\n",
      "Time:                        13:57:29   Log-Likelihood:                -4196.4\n",
      "No. Observations:                 200   AIC:                             8403.\n",
      "Df Residuals:                     195   BIC:                             8419.\n",
      "Df Model:                           4                                         \n",
      "Covariance Type:            nonrobust                                         \n",
      "=======================================================================================\n",
      "                          coef    std err          t      P>|t|      [0.025      0.975]\n",
      "---------------------------------------------------------------------------------------\n",
      "const                5.282e+10   3.69e+10      1.433      0.153   -1.99e+10    1.26e+11\n",
      "Education Budget        0.0674      0.033      2.045      0.042       0.002       0.132\n",
      "Unemployment Rate    1.104e+08   2.42e+07      4.567      0.000    6.28e+07    1.58e+08\n",
      "Population Estimate   156.4473     14.893     10.505      0.000     127.076     185.819\n",
      "Year                -2.642e+07   1.82e+07     -1.448      0.149   -6.24e+07    9.57e+06\n",
      "==============================================================================\n",
      "Omnibus:                       62.380   Durbin-Watson:                   1.977\n",
      "Prob(Omnibus):                  0.000   Jarque-Bera (JB):              467.745\n",
      "Skew:                           0.936   Prob(JB):                    2.69e-102\n",
      "Kurtosis:                      10.254   Cond. No.                     7.14e+12\n",
      "==============================================================================\n",
      "\n",
      "Notes:\n",
      "[1] Standard Errors assume that the covariance matrix of the errors is correctly specified.\n",
      "[2] The condition number is large, 7.14e+12. This might indicate that there are\n",
      "strong multicollinearity or other numerical problems.\n"
     ]
    }
   ],
   "source": [
    "X_train_Sm= sm.add_constant(X_train)\n",
    "ls=sm.OLS(y_train,X_train_Sm).fit()\n",
    "print(ls.summary())"
   ]
  },
  {
   "cell_type": "code",
   "execution_count": null,
   "id": "e1d5da62-bea1-4dae-82e5-8b49254c48b4",
   "metadata": {
    "tags": []
   },
   "outputs": [],
   "source": []
  },
  {
   "cell_type": "code",
   "execution_count": null,
   "id": "721f9fa6-0e9c-4d4d-b626-ab2c80605270",
   "metadata": {
    "tags": []
   },
   "outputs": [],
   "source": []
  },
  {
   "cell_type": "code",
   "execution_count": null,
   "id": "ab37526c-998b-48d4-9399-daf2ea4c5d1c",
   "metadata": {
    "tags": []
   },
   "outputs": [],
   "source": []
  },
  {
   "cell_type": "code",
   "execution_count": null,
   "id": "e209e63b-5c7b-4264-a3ff-261df58bbf5c",
   "metadata": {
    "tags": []
   },
   "outputs": [],
   "source": []
  }
 ],
 "metadata": {
  "kernelspec": {
   "display_name": "Python 3 (ipykernel)",
   "language": "python",
   "name": "python3"
  },
  "language_info": {
   "codemirror_mode": {
    "name": "ipython",
    "version": 3
   },
   "file_extension": ".py",
   "mimetype": "text/x-python",
   "name": "python",
   "nbconvert_exporter": "python",
   "pygments_lexer": "ipython3",
   "version": "3.9.6"
  }
 },
 "nbformat": 4,
 "nbformat_minor": 5
}
