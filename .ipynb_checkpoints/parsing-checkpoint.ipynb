{
 "cells": [
  {
   "cell_type": "code",
   "execution_count": 1,
   "id": "f8954b0a-a97a-431a-bd69-23a453a3bc64",
   "metadata": {
    "tags": []
   },
   "outputs": [],
   "source": [
    "import csv\n",
    "import numpy as np\n",
    "import pandas as pd"
   ]
  },
  {
   "cell_type": "code",
   "execution_count": 2,
   "id": "04cd942c-913e-4f4c-ae0c-10456c9c2500",
   "metadata": {
    "tags": []
   },
   "outputs": [],
   "source": [
    "#https://www.census.gov/data/datasets/time-series/demo/popest/2010s-state-total.html"
   ]
  },
  {
   "cell_type": "code",
   "execution_count": 3,
   "id": "0fd2ff8f-f7b2-42b0-9dd5-0afb3f40e59a",
   "metadata": {
    "tags": []
   },
   "outputs": [],
   "source": [
    "# EDIT THIS TO CONTAIN ALL YEARS YOU WANT TO ANALYZE\n",
    "years = ['2000', '2001', '2002', '2003', '2004',\n",
    "         '2005', '2006', '2007', '2008', '2009',\n",
    "         '2010', '2011', '2012',\n",
    "         '2013', '2013', '2014', '2015', '2016', \n",
    "         '2017', '2018', '2019']"
   ]
  },
  {
   "cell_type": "code",
   "execution_count": 4,
   "id": "274054cd-cf56-454e-acb6-602ac4a9f5c4",
   "metadata": {},
   "outputs": [],
   "source": [
    "def drop_cols(col_names, df):\n",
    "    for col_name in col_names:\n",
    "        if col_name in df.columns:\n",
    "            df = df.drop(columns=col_name)\n",
    "    return df"
   ]
  },
  {
   "cell_type": "code",
   "execution_count": 13,
   "id": "e780ee7c-d73a-4513-8dfa-e1c36fb45eff",
   "metadata": {
    "tags": []
   },
   "outputs": [],
   "source": [
    "def combine(year):\n",
    "    unemployment_csv = f'./data/{year}_unemployment.csv'\n",
    "    education_csv = f'./data/education_{year}.csv'\n",
    "    if int(year) < 2011:\n",
    "        population_csv = f'./data/nst-est2000-alldata.csv'\n",
    "    else:\n",
    "        population_csv = f'./data/nst-est2019-alldata.csv'\n",
    "    snaps_csv = f'./data/snaps_data_{year}.csv'\n",
    "    unwanted_cols = ['rank', 'Rank', 'labor force', 'Labor Force', 'Rank ']\n",
    "    \n",
    "    unemployment_df = pd.read_csv(unemployment_csv)\n",
    "    education_df = pd.read_csv(education_csv)\n",
    "    pop_df = pd.read_csv(population_csv)\n",
    "    #print(pop_df.head())\n",
    "    #print(population_csv)\n",
    "\n",
    "    pop_df = pop_df[[\"NAME\", f\"POPESTIMATE{year}\"]].copy()\n",
    "    snaps_df = pd.read_csv(snaps_csv)\n",
    "    education_df = education_df.rename(columns={\"State or Other Area\": \"State\", f\"{year} Actual\": \"Education Budget\"})\n",
    "    unemployment_df = unemployment_df.rename(columns={\"state\": \"State\", f\"{year} rate\": \"Unemployment Rate\", f\"{year} Rate\": \"Unemployment Rate\"})\n",
    "    #print(unemployment_df)\n",
    "    pop_df = pop_df.rename(columns={\"NAME\": \"State\", f\"POPESTIMATE{year}\": \"Population Estimate\"})\n",
    "    snaps_df = snaps_df.rename(columns = {\"state\": \"State\", \"household_participants\": \"SNAPS household_participants\",\n",
    "                                   \"individual_participants\": \"SNAPS individual_participants\", \"cost\": \"SNAPS cost\",\n",
    "                                   \"cost_per_person\": \"SNAPS cost_per_person\", \"cost_per_household\": \"SNAPS cost_per_household\"})\n",
    "    \n",
    "    df = pd.merge(education_df, unemployment_df, on='State')\n",
    "    df = pd.merge(df, pop_df, how='left', on='State')\n",
    "    df = pd.merge(df, snaps_df, how='left', on='State')\n",
    "    \n",
    "    df = df.dropna(axis='columns')\n",
    "    df = drop_cols(unwanted_cols, df)\n",
    "    \n",
    "    print(year)\n",
    "    print(df.columns)\n",
    "    \n",
    "    return df"
   ]
  },
  {
   "cell_type": "code",
   "execution_count": 14,
   "id": "12962b54-e169-4cb2-b4e6-f8e4c151c220",
   "metadata": {
    "tags": []
   },
   "outputs": [
    {
     "name": "stdout",
     "output_type": "stream",
     "text": [
      "2000\n",
      "Index(['State', 'Education Budget', 'Population Estimate',\n",
      "       'SNAPS household_participants', 'SNAPS individual_participants',\n",
      "       'SNAPS cost', 'SNAPS cost_per_person', 'SNAPS cost_per_household'],\n",
      "      dtype='object')\n",
      "2001\n",
      "Index(['State', 'Education Budget', 'Population Estimate',\n",
      "       'SNAPS household_participants', 'SNAPS individual_participants',\n",
      "       'SNAPS cost', 'SNAPS cost_per_person', 'SNAPS cost_per_household'],\n",
      "      dtype='object')\n",
      "2002\n",
      "Index(['State', 'Education Budget', 'Population Estimate',\n",
      "       'SNAPS household_participants', 'SNAPS individual_participants',\n",
      "       'SNAPS cost', 'SNAPS cost_per_person', 'SNAPS cost_per_household'],\n",
      "      dtype='object')\n",
      "2003\n",
      "Index(['State', 'Education Budget', 'Population Estimate',\n",
      "       'SNAPS household_participants', 'SNAPS individual_participants',\n",
      "       'SNAPS cost', 'SNAPS cost_per_person', 'SNAPS cost_per_household'],\n",
      "      dtype='object')\n",
      "2004\n",
      "Index(['State', 'Education Budget', 'Population Estimate',\n",
      "       'SNAPS household_participants', 'SNAPS individual_participants',\n",
      "       'SNAPS cost', 'SNAPS cost_per_person', 'SNAPS cost_per_household'],\n",
      "      dtype='object')\n",
      "2005\n",
      "Index(['State', 'Education Budget', 'Population Estimate',\n",
      "       'SNAPS household_participants', 'SNAPS individual_participants',\n",
      "       'SNAPS cost', 'SNAPS cost_per_person', 'SNAPS cost_per_household'],\n",
      "      dtype='object')\n",
      "2006\n",
      "Index(['State', 'Education Budget', 'Population Estimate',\n",
      "       'SNAPS household_participants', 'SNAPS individual_participants',\n",
      "       'SNAPS cost', 'SNAPS cost_per_person', 'SNAPS cost_per_household'],\n",
      "      dtype='object')\n",
      "2007\n",
      "Index(['State', 'Education Budget', 'Population Estimate',\n",
      "       'SNAPS household_participants', 'SNAPS individual_participants',\n",
      "       'SNAPS cost', 'SNAPS cost_per_person', 'SNAPS cost_per_household'],\n",
      "      dtype='object')\n",
      "2008\n",
      "Index(['State', 'Education Budget', 'Population Estimate',\n",
      "       'SNAPS household_participants', 'SNAPS individual_participants',\n",
      "       'SNAPS cost', 'SNAPS cost_per_person', 'SNAPS cost_per_household'],\n",
      "      dtype='object')\n",
      "2009\n",
      "Index(['State', 'Education Budget', 'Population Estimate',\n",
      "       'SNAPS household_participants', 'SNAPS individual_participants',\n",
      "       'SNAPS cost', 'SNAPS cost_per_person', 'SNAPS cost_per_household'],\n",
      "      dtype='object')\n",
      "2010\n",
      "Index(['State', 'Education Budget', 'Population Estimate',\n",
      "       'SNAPS household_participants', 'SNAPS individual_participants',\n",
      "       'SNAPS cost', 'SNAPS cost_per_person', 'SNAPS cost_per_household'],\n",
      "      dtype='object')\n",
      "2011\n",
      "Index(['State', 'Education Budget', 'Population Estimate',\n",
      "       'SNAPS household_participants', 'SNAPS individual_participants',\n",
      "       'SNAPS cost', 'SNAPS cost_per_person', 'SNAPS cost_per_household'],\n",
      "      dtype='object')\n",
      "2012\n",
      "Index(['State', 'Education Budget', 'Population Estimate',\n",
      "       'SNAPS household_participants', 'SNAPS individual_participants',\n",
      "       'SNAPS cost', 'SNAPS cost_per_person', 'SNAPS cost_per_household'],\n",
      "      dtype='object')\n",
      "2013\n",
      "Index(['State', 'Education Budget', 'Population Estimate',\n",
      "       'SNAPS household_participants', 'SNAPS individual_participants',\n",
      "       'SNAPS cost', 'SNAPS cost_per_person', 'SNAPS cost_per_household'],\n",
      "      dtype='object')\n",
      "2013\n",
      "Index(['State', 'Education Budget', 'Population Estimate',\n",
      "       'SNAPS household_participants', 'SNAPS individual_participants',\n",
      "       'SNAPS cost', 'SNAPS cost_per_person', 'SNAPS cost_per_household'],\n",
      "      dtype='object')\n",
      "2014\n",
      "Index(['State', 'Education Budget', 'Unemployment Rate', 'Population Estimate',\n",
      "       'SNAPS household_participants', 'SNAPS individual_participants',\n",
      "       'SNAPS cost', 'SNAPS cost_per_person', 'SNAPS cost_per_household'],\n",
      "      dtype='object')\n",
      "2015\n",
      "Index(['State', 'Education Budget', 'Unemployment Rate', 'Population Estimate',\n",
      "       'SNAPS household_participants', 'SNAPS individual_participants',\n",
      "       'SNAPS cost', 'SNAPS cost_per_person', 'SNAPS cost_per_household'],\n",
      "      dtype='object')\n",
      "2016\n",
      "Index(['State', 'Education Budget', 'Unemployment Rate', 'Population Estimate',\n",
      "       'SNAPS household_participants', 'SNAPS individual_participants',\n",
      "       'SNAPS cost', 'SNAPS cost_per_person', 'SNAPS cost_per_household'],\n",
      "      dtype='object')\n",
      "2017\n",
      "Index(['State', 'Education Budget', 'Unemployment Rate', 'Population Estimate',\n",
      "       'SNAPS household_participants', 'SNAPS individual_participants',\n",
      "       'SNAPS cost', 'SNAPS cost_per_person', 'SNAPS cost_per_household'],\n",
      "      dtype='object')\n",
      "2018\n",
      "Index(['State', 'Education Budget', 'Unemployment Rate', 'Population Estimate',\n",
      "       'SNAPS household_participants', 'SNAPS individual_participants',\n",
      "       'SNAPS cost', 'SNAPS cost_per_person', 'SNAPS cost_per_household'],\n",
      "      dtype='object')\n",
      "2019\n",
      "Index(['State', 'Education Budget', 'Unemployment Rate', 'Population Estimate',\n",
      "       'SNAPS household_participants', 'SNAPS individual_participants',\n",
      "       'SNAPS cost', 'SNAPS cost_per_person', 'SNAPS cost_per_household'],\n",
      "      dtype='object')\n"
     ]
    }
   ],
   "source": [
    "for year in years:\n",
    "    df = combine(year)\n",
    "#     print(df.head())\n",
    "    df.to_csv(f'./data/{year}-combined.csv', index=False)\n",
    "\n",
    "#df.head()"
   ]
  },
  {
   "cell_type": "code",
   "execution_count": null,
   "id": "436f22f4-6a8f-4175-913a-cb97d9c6d24f",
   "metadata": {
    "tags": []
   },
   "outputs": [],
   "source": [
    "df = ''"
   ]
  },
  {
   "cell_type": "code",
   "execution_count": 17,
   "id": "8712c5ac-f31b-4fc9-ab37-10bf88192487",
   "metadata": {
    "tags": []
   },
   "outputs": [],
   "source": [
    "for year in years:\n",
    "    source = f'./data/{year}-combined.csv'\n",
    "    ydf = pd.read_csv(source)\n",
    "    ydf['Year'] = year\n",
    "    if year != '2000':\n",
    "        df = pd.concat([df, ydf], ignore_index=True)\n",
    "    else: \n",
    "        df = ydf.copy()\n",
    "    \n",
    "\n"
   ]
  },
  {
   "cell_type": "code",
   "execution_count": 18,
   "id": "a1b9e2d3-bb1f-48ec-bedd-3034e9ccfeb1",
   "metadata": {
    "tags": []
   },
   "outputs": [
    {
     "name": "stdout",
     "output_type": "stream",
     "text": [
      "              State  Education Budget  Population Estimate  \\\n",
      "0           Alabama      5.577678e+08              4447207   \n",
      "1            Alaska      1.778816e+08               626933   \n",
      "2           Arizona      6.679765e+08              5130247   \n",
      "3          Arkansas      3.284035e+08              2673293   \n",
      "4        California      3.792097e+09             33871653   \n",
      "...             ...               ...                  ...   \n",
      "1046       Virginia      4.493670e+09              8535519   \n",
      "1047     Washington      2.471252e+09              7614893   \n",
      "1048  West Virginia      1.147838e+09              1792147   \n",
      "1049      Wisconsin      2.371696e+09              5822434   \n",
      "1050        Wyoming      2.313688e+08               578759   \n",
      "\n",
      "      SNAPS household_participants  SNAPS individual_participants  \\\n",
      "0                      156104.5833                   3.960572e+05   \n",
      "1                       13208.3333                   3.752433e+04   \n",
      "2                       95567.5000                   2.590026e+05   \n",
      "3                       98764.3333                   2.465715e+05   \n",
      "4                      672007.0000                   1.830677e+06   \n",
      "...                            ...                            ...   \n",
      "1046                   318522.0000                   6.548820e+05   \n",
      "1047                   482025.0000                   8.331280e+05   \n",
      "1048                   148108.0000                   2.826620e+05   \n",
      "1049                   291721.0000                   5.723230e+05   \n",
      "1050                    10912.0000                   2.430900e+04   \n",
      "\n",
      "        SNAPS cost  SNAPS cost_per_person  SNAPS cost_per_household  Year  \\\n",
      "0     3.437353e+08                72.3244                  183.4962  2000   \n",
      "1     4.583456e+07               101.7885                  289.1770  2000   \n",
      "2     2.402456e+08                77.2983                  209.4903  2000   \n",
      "3     2.062364e+08                69.7013                  174.0139  2000   \n",
      "4     1.639333e+09                74.6233                  203.2882  2000   \n",
      "...            ...                    ...                       ...   ...   \n",
      "1046  1.002380e+09               262.2500                  127.5500  2019   \n",
      "1047  1.192380e+09               206.1400                  119.2700  2019   \n",
      "1048  3.979000e+08               223.8800                  117.3100  2019   \n",
      "1049  7.783731e+08               222.3500                  113.3400  2019   \n",
      "1050  3.627712e+07               277.0400                  124.3600  2019   \n",
      "\n",
      "      Unemployment Rate  \n",
      "0                   NaN  \n",
      "1                   NaN  \n",
      "2                   NaN  \n",
      "3                   NaN  \n",
      "4                   NaN  \n",
      "...                 ...  \n",
      "1046                2.8  \n",
      "1047                4.2  \n",
      "1048                5.0  \n",
      "1049                3.2  \n",
      "1050                3.7  \n",
      "\n",
      "[1051 rows x 10 columns]\n"
     ]
    }
   ],
   "source": [
    "df = df.loc[:, ~df.columns.str.contains('^Unnamed')]\n",
    "print(df)\n",
    "df.to_csv('./data/data.csv', index=False)"
   ]
  },
  {
   "cell_type": "code",
   "execution_count": null,
   "id": "35d12185-2887-4573-866c-c29f532c24de",
   "metadata": {
    "tags": []
   },
   "outputs": [],
   "source": []
  },
  {
   "cell_type": "code",
   "execution_count": null,
   "id": "34962437-aa05-4994-bc75-9afbbfe69bf3",
   "metadata": {
    "tags": []
   },
   "outputs": [],
   "source": []
  },
  {
   "cell_type": "code",
   "execution_count": null,
   "id": "a153e604-3cba-4192-a513-06ccbb86017d",
   "metadata": {
    "tags": []
   },
   "outputs": [],
   "source": []
  },
  {
   "cell_type": "code",
   "execution_count": null,
   "id": "cf1f76c2-c0b8-4134-b21e-cd32a3caf31b",
   "metadata": {
    "tags": []
   },
   "outputs": [],
   "source": []
  },
  {
   "cell_type": "code",
   "execution_count": null,
   "id": "4b330c19-01dd-4c81-8ae1-afe414bd3743",
   "metadata": {
    "tags": []
   },
   "outputs": [],
   "source": []
  },
  {
   "cell_type": "code",
   "execution_count": null,
   "id": "5a6ea63f-d648-4d98-a767-500e36fc2dd8",
   "metadata": {},
   "outputs": [],
   "source": []
  }
 ],
 "metadata": {
  "kernelspec": {
   "display_name": "Python 3 (ipykernel)",
   "language": "python",
   "name": "python3"
  },
  "language_info": {
   "codemirror_mode": {
    "name": "ipython",
    "version": 3
   },
   "file_extension": ".py",
   "mimetype": "text/x-python",
   "name": "python",
   "nbconvert_exporter": "python",
   "pygments_lexer": "ipython3",
   "version": "3.9.6"
  }
 },
 "nbformat": 4,
 "nbformat_minor": 5
}
