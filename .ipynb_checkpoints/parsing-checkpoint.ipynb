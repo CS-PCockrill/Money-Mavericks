{
 "cells": [
  {
   "cell_type": "code",
   "execution_count": 5,
   "id": "f8954b0a-a97a-431a-bd69-23a453a3bc64",
   "metadata": {
    "tags": []
   },
   "outputs": [],
   "source": [
    "import csv\n",
    "import numpy as np\n",
    "import pandas as pd"
   ]
  },
  {
   "cell_type": "code",
   "execution_count": 6,
   "id": "04cd942c-913e-4f4c-ae0c-10456c9c2500",
   "metadata": {
    "tags": []
   },
   "outputs": [],
   "source": [
    "#https://www.census.gov/data/datasets/time-series/demo/popest/2010s-state-total.html"
   ]
  },
  {
   "cell_type": "code",
   "execution_count": 9,
   "id": "436f22f4-6a8f-4175-913a-cb97d9c6d24f",
   "metadata": {
    "tags": []
   },
   "outputs": [],
   "source": [
    "unemployment_csv = './data/2019_unemployment.csv'\n",
    "education_csv = './data/education_2019.csv'\n",
    "population_csv = './data/nst-est2019-alldata.csv'\n",
    "snaps_csv = './data/snaps_data_2019.csv'"
   ]
  },
  {
   "cell_type": "code",
   "execution_count": 28,
   "id": "8712c5ac-f31b-4fc9-ab37-10bf88192487",
   "metadata": {
    "tags": []
   },
   "outputs": [],
   "source": [
    "unemployment_df = pd.read_csv(unemployment_csv)\n",
    "education_df = pd.read_csv(education_csv)\n",
    "pop_df = pd.read_csv(population_csv)\n",
    "pop_df = pop_df[[\"NAME\", \"POPESTIMATE2019\"]].copy()\n",
    "snaps_df = pd.read_csv(snaps_csv)\n",
    "\n",
    "education_df = education_df.rename(columns={\"State or Other Area\": \"State\", \"2019 Actual\": \"Education Budget\"})\n",
    "unemployment_df = unemployment_df.rename(columns={\"state\": \"State\", \"2019 rate\": \"Unemployment Rate\"})\n",
    "pop_df = pop_df.rename(columns={\"NAME\": \"State\", \"POPESTIMATE2019\": \"Population Estimate\"})\n",
    "snaps_df = snaps_df.rename(columns={\"state\": \"State\", \"household_participants\": \"SNAPS household_participants\",\n",
    "                                   \"individual_participants\": \"SNAPS individual_participants\", \"cost\": \"SNAPS cost\",\n",
    "                                   \"cost_per_person\": \"SNAPS cost_per_person\", \"cost_per_household\": \"SNAPS cost_per_household\"})\n"
   ]
  },
  {
   "cell_type": "code",
   "execution_count": 29,
   "id": "35d12185-2887-4573-866c-c29f532c24de",
   "metadata": {
    "tags": []
   },
   "outputs": [
    {
     "name": "stdout",
     "output_type": "stream",
     "text": [
      "        State  Education Budget  Unemployment Rate\n",
      "0     Alabama      2.775338e+09                3.2\n",
      "1      Alaska      4.005232e+08                5.6\n",
      "2     Arizona      5.143402e+09                4.8\n",
      "3    Arkansas      1.350409e+09                3.5\n",
      "4  California      1.721222e+10                4.1\n"
     ]
    }
   ],
   "source": [
    "df = pd.merge(education_df, unemployment_df, on='State').drop(columns='rank')\n",
    "print(df.head())"
   ]
  },
  {
   "cell_type": "code",
   "execution_count": null,
   "id": "a153e604-3cba-4192-a513-06ccbb86017d",
   "metadata": {
    "tags": []
   },
   "outputs": [],
   "source": []
  },
  {
   "cell_type": "code",
   "execution_count": 31,
   "id": "34962437-aa05-4994-bc75-9afbbfe69bf3",
   "metadata": {
    "tags": []
   },
   "outputs": [
    {
     "name": "stdout",
     "output_type": "stream",
     "text": [
      "        State  Education Budget  Unemployment Rate  Population Estimate\n",
      "0     Alabama      2.775338e+09                3.2              4903185\n",
      "1      Alaska      4.005232e+08                5.6               731545\n",
      "2     Arizona      5.143402e+09                4.8              7278717\n",
      "3    Arkansas      1.350409e+09                3.5              3017804\n",
      "4  California      1.721222e+10                4.1             39512223\n"
     ]
    }
   ],
   "source": [
    "df = pd.merge(df, pop_df, how='left', on='State')\n",
    "print(df.head())"
   ]
  },
  {
   "cell_type": "code",
   "execution_count": 34,
   "id": "4b330c19-01dd-4c81-8ae1-afe414bd3743",
   "metadata": {
    "tags": []
   },
   "outputs": [],
   "source": [
    "df.to_csv('./data/2019-combined.csv', index=False)"
   ]
  },
  {
   "cell_type": "code",
   "execution_count": null,
   "id": "5a6ea63f-d648-4d98-a767-500e36fc2dd8",
   "metadata": {},
   "outputs": [],
   "source": []
  }
 ],
 "metadata": {
  "kernelspec": {
   "display_name": "Python 3 (ipykernel)",
   "language": "python",
   "name": "python3"
  },
  "language_info": {
   "codemirror_mode": {
    "name": "ipython",
    "version": 3
   },
   "file_extension": ".py",
   "mimetype": "text/x-python",
   "name": "python",
   "nbconvert_exporter": "python",
   "pygments_lexer": "ipython3",
   "version": "3.9.6"
  }
 },
 "nbformat": 4,
 "nbformat_minor": 5
}
