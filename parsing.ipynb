{
 "cells": [
  {
   "cell_type": "code",
   "execution_count": 24,
   "id": "f8954b0a-a97a-431a-bd69-23a453a3bc64",
   "metadata": {
    "tags": []
   },
   "outputs": [],
   "source": [
    "import csv\n",
    "import numpy as np\n",
    "import pandas as pd"
   ]
  },
  {
   "cell_type": "code",
   "execution_count": 25,
   "id": "04cd942c-913e-4f4c-ae0c-10456c9c2500",
   "metadata": {
    "tags": []
   },
   "outputs": [],
   "source": [
    "#https://www.census.gov/data/datasets/time-series/demo/popest/2010s-state-total.html"
   ]
  },
  {
   "cell_type": "code",
   "execution_count": 29,
   "id": "0fd2ff8f-f7b2-42b0-9dd5-0afb3f40e59a",
   "metadata": {
    "tags": []
   },
   "outputs": [],
   "source": [
    "# EDIT THIS TO CONTAIN ALL YEARS YOU WANT TO ANALYZE\n",
    "years = ['2015', '2016', '2017', '2018', '2019']"
   ]
  },
  {
   "cell_type": "code",
   "execution_count": 27,
   "id": "e780ee7c-d73a-4513-8dfa-e1c36fb45eff",
   "metadata": {
    "tags": []
   },
   "outputs": [],
   "source": [
    "def combine(year):\n",
    "    unemployment_csv = f'./data/{year}_unemployment.csv'\n",
    "    education_csv = f'./data/education_{year}.csv'\n",
    "    population_csv = f'./data/nst-est2019-alldata.csv'\n",
    "    snaps_csv = f'./data/snaps_data_{year}.csv'\n",
    "    \n",
    "    unemployment_df = pd.read_csv(unemployment_csv)\n",
    "    education_df = pd.read_csv(education_csv)\n",
    "    pop_df = pd.read_csv(population_csv)\n",
    "    pop_df = pop_df[[\"NAME\", f\"POPESTIMATE{year}\"]].copy()\n",
    "    snaps_df = pd.read_csv(snaps_csv)\n",
    "    education_df = education_df.rename(columns={\"State or Other Area\": \"State\", f\"{year} Actual\": \"Education Budget\"})\n",
    "    unemployment_df = unemployment_df.rename(columns={\"state\": \"State\", f\"{year} rate\": \"Unemployment Rate\"})\n",
    "    pop_df = pop_df.rename(columns={\"NAME\": \"State\", f\"POPESTIMATE{year}\": \"Population Estimate\"})\n",
    "    snaps_df = snaps_df.rename(columns = {\"state\": \"State\", \"household_participants\": \"SNAPS household_participants\",\n",
    "                                   \"individual_participants\": \"SNAPS individual_participants\", \"cost\": \"SNAPS cost\",\n",
    "                                   \"cost_per_person\": \"SNAPS cost_per_person\", \"cost_per_household\": \"SNAPS cost_per_household\"})\n",
    "    \n",
    "    df = pd.merge(education_df, unemployment_df, on='State').drop(columns='rank')\n",
    "    df = pd.merge(df, pop_df, how='left', on='State')\n",
    "    df = pd.merge(df, snaps_df, how='left', on='State')\n",
    "    \n",
    "    return df"
   ]
  },
  {
   "cell_type": "code",
   "execution_count": 28,
   "id": "12962b54-e169-4cb2-b4e6-f8e4c151c220",
   "metadata": {
    "tags": []
   },
   "outputs": [
    {
     "name": "stdout",
     "output_type": "stream",
     "text": [
      "        State  Education Budget  Unemployment Rate  Population Estimate  \\\n",
      "0     Alabama      2.775338e+09                3.2              4903185   \n",
      "1      Alaska      4.005232e+08                5.6               731545   \n",
      "2     Arizona      5.143402e+09                4.8              7278717   \n",
      "3    Arkansas      1.350409e+09                3.5              3017804   \n",
      "4  California      1.721222e+10                4.1             39512223   \n",
      "\n",
      "   SNAPS household_participants  SNAPS individual_participants  SNAPS cost  \\\n",
      "0                        315551                         667043  1032064886   \n",
      "1                         35493                          78932   171091672   \n",
      "2                        345106                         736883  1146712214   \n",
      "3                        159231                         354917   460333605   \n",
      "4                       1803402                        3529470  5977281299   \n",
      "\n",
      "   SNAPS cost_per_person  SNAPS cost_per_household  \n",
      "0                 272.56                    128.94  \n",
      "1                 401.70                    180.63  \n",
      "2                 276.90                    129.68  \n",
      "3                 240.92                    108.08  \n",
      "4                 276.20                    141.13  \n"
     ]
    }
   ],
   "source": [
    "for year in years:\n",
    "    df = combine(year)\n",
    "    print(df.head())\n",
    "    df.to_csv(f'./data/{year}-combined.csv', index=False)"
   ]
  },
  {
   "cell_type": "code",
   "execution_count": 9,
   "id": "436f22f4-6a8f-4175-913a-cb97d9c6d24f",
   "metadata": {
    "tags": []
   },
   "outputs": [],
   "source": []
  },
  {
   "cell_type": "code",
   "execution_count": 32,
   "id": "8712c5ac-f31b-4fc9-ab37-10bf88192487",
   "metadata": {
    "tags": []
   },
   "outputs": [],
   "source": [
    "df =''\n",
    "\n",
    "for year in years:\n",
    "    source = f'./data/{year}-combined.csv'\n",
    "    ydf = pd.read_csv(source)\n",
    "    ydf['Year'] = year\n",
    "    if year != '2015':\n",
    "        df = pd.concat([df, ydf], ignore_index=True)\n",
    "    else:\n",
    "        df = ydf.copy()\n",
    "\n"
   ]
  },
  {
   "cell_type": "code",
   "execution_count": 34,
   "id": "a1b9e2d3-bb1f-48ec-bedd-3034e9ccfeb1",
   "metadata": {
    "tags": []
   },
   "outputs": [
    {
     "name": "stdout",
     "output_type": "stream",
     "text": [
      "             State  Education Budget  Unemployment Rate  Population Estimate  \\\n",
      "0          Alabama      2.729781e+09                6.1              4852347   \n",
      "1           Alaska      4.152387e+08                6.5               737498   \n",
      "2          Arizona      6.241051e+09                6.1              6829676   \n",
      "3         Arkansas      1.334963e+09                5.2              2978048   \n",
      "4       California      1.672784e+10                6.2             38918045   \n",
      "..             ...               ...                ...                  ...   \n",
      "246       Virginia      4.493670e+09                2.8              8535519   \n",
      "247     Washington      2.471252e+09                4.2              7614893   \n",
      "248  West Virginia      1.147838e+09                5.0              1792147   \n",
      "249      Wisconsin      2.371696e+09                3.2              5822434   \n",
      "250        Wyoming      2.313688e+08                3.7               578759   \n",
      "\n",
      "     SNAPS household_participants  SNAPS individual_participants  SNAPS cost  \\\n",
      "0                    4.179434e+05                   8.893801e+05  1341906577   \n",
      "1                    3.418733e+04                   8.112125e+04   168054411   \n",
      "2                    4.393297e+05                   9.994010e+05  1459584642   \n",
      "3                    2.140558e+05                   4.689040e+05   648769562   \n",
      "4                    2.096960e+06                   4.417772e+06  7528039778   \n",
      "..                            ...                            ...         ...   \n",
      "246                  3.185220e+05                   6.548820e+05  1002380166   \n",
      "247                  4.820250e+05                   8.331280e+05  1192380309   \n",
      "248                  1.481080e+05                   2.826620e+05   397899950   \n",
      "249                  2.917210e+05                   5.723230e+05   778373061   \n",
      "250                  1.091200e+04                   2.430900e+04    36277115   \n",
      "\n",
      "     SNAPS cost_per_person  SNAPS cost_per_household  Year  Unnamed: 3  \n",
      "0               267.561450                125.734258  2015         NaN  \n",
      "1               409.641025                172.637058  2015         NaN  \n",
      "2               276.858275                121.704958  2015         NaN  \n",
      "3               252.570325                115.298933  2015         NaN  \n",
      "4               299.164858                142.002950  2015         NaN  \n",
      "..                     ...                       ...   ...         ...  \n",
      "246             262.250000                127.550000  2019         NaN  \n",
      "247             206.140000                119.270000  2019         NaN  \n",
      "248             223.880000                117.310000  2019         NaN  \n",
      "249             222.350000                113.340000  2019         NaN  \n",
      "250             277.040000                124.360000  2019         NaN  \n",
      "\n",
      "[251 rows x 11 columns]\n"
     ]
    }
   ],
   "source": [
    "print(df)\n",
    "df.to_csv('./data/data.csv')"
   ]
  },
  {
   "cell_type": "code",
   "execution_count": 14,
   "id": "35d12185-2887-4573-866c-c29f532c24de",
   "metadata": {
    "tags": []
   },
   "outputs": [
    {
     "name": "stdout",
     "output_type": "stream",
     "text": [
      "        State  Education Budget  Unemployment Rate\n",
      "0     Alabama      2.775338e+09                3.2\n",
      "1      Alaska      4.005232e+08                5.6\n",
      "2     Arizona      5.143402e+09                4.8\n",
      "3    Arkansas      1.350409e+09                3.5\n",
      "4  California      1.721222e+10                4.1\n"
     ]
    }
   ],
   "source": []
  },
  {
   "cell_type": "code",
   "execution_count": 15,
   "id": "34962437-aa05-4994-bc75-9afbbfe69bf3",
   "metadata": {
    "tags": []
   },
   "outputs": [
    {
     "name": "stdout",
     "output_type": "stream",
     "text": [
      "        State  Education Budget  Unemployment Rate  Population Estimate\n",
      "0     Alabama      2.775338e+09                3.2              4903185\n",
      "1      Alaska      4.005232e+08                5.6               731545\n",
      "2     Arizona      5.143402e+09                4.8              7278717\n",
      "3    Arkansas      1.350409e+09                3.5              3017804\n",
      "4  California      1.721222e+10                4.1             39512223\n"
     ]
    }
   ],
   "source": []
  },
  {
   "cell_type": "code",
   "execution_count": 16,
   "id": "a153e604-3cba-4192-a513-06ccbb86017d",
   "metadata": {
    "tags": []
   },
   "outputs": [],
   "source": []
  },
  {
   "cell_type": "code",
   "execution_count": 17,
   "id": "cf1f76c2-c0b8-4134-b21e-cd32a3caf31b",
   "metadata": {
    "tags": []
   },
   "outputs": [
    {
     "name": "stdout",
     "output_type": "stream",
     "text": [
      "        State  Education Budget  Unemployment Rate  Population Estimate  \\\n",
      "0     Alabama      2.775338e+09                3.2              4903185   \n",
      "1      Alaska      4.005232e+08                5.6               731545   \n",
      "2     Arizona      5.143402e+09                4.8              7278717   \n",
      "3    Arkansas      1.350409e+09                3.5              3017804   \n",
      "4  California      1.721222e+10                4.1             39512223   \n",
      "\n",
      "   SNAPS household_participants  SNAPS individual_participants  SNAPS cost  \\\n",
      "0                        315551                         667043  1032064886   \n",
      "1                         35493                          78932   171091672   \n",
      "2                        345106                         736883  1146712214   \n",
      "3                        159231                         354917   460333605   \n",
      "4                       1803402                        3529470  5977281299   \n",
      "\n",
      "   SNAPS cost_per_person  SNAPS cost_per_household  \n",
      "0                 272.56                    128.94  \n",
      "1                 401.70                    180.63  \n",
      "2                 276.90                    129.68  \n",
      "3                 240.92                    108.08  \n",
      "4                 276.20                    141.13  \n"
     ]
    }
   ],
   "source": []
  },
  {
   "cell_type": "code",
   "execution_count": 18,
   "id": "4b330c19-01dd-4c81-8ae1-afe414bd3743",
   "metadata": {
    "tags": []
   },
   "outputs": [],
   "source": []
  },
  {
   "cell_type": "code",
   "execution_count": null,
   "id": "5a6ea63f-d648-4d98-a767-500e36fc2dd8",
   "metadata": {},
   "outputs": [],
   "source": []
  }
 ],
 "metadata": {
  "kernelspec": {
   "display_name": "Python 3 (ipykernel)",
   "language": "python",
   "name": "python3"
  },
  "language_info": {
   "codemirror_mode": {
    "name": "ipython",
    "version": 3
   },
   "file_extension": ".py",
   "mimetype": "text/x-python",
   "name": "python",
   "nbconvert_exporter": "python",
   "pygments_lexer": "ipython3",
   "version": "3.9.6"
  }
 },
 "nbformat": 4,
 "nbformat_minor": 5
}
