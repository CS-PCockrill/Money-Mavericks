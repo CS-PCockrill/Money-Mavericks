{
 "cells": [
  {
   "cell_type": "code",
   "execution_count": 1,
   "id": "f8954b0a-a97a-431a-bd69-23a453a3bc64",
   "metadata": {
    "tags": []
   },
   "outputs": [],
   "source": [
    "import csv\n",
    "import numpy as np\n",
    "import pandas as pd"
   ]
  },
  {
   "cell_type": "code",
   "execution_count": 2,
   "id": "04cd942c-913e-4f4c-ae0c-10456c9c2500",
   "metadata": {
    "tags": []
   },
   "outputs": [],
   "source": [
    "#https://www.census.gov/data/datasets/time-series/demo/popest/2010s-state-total.html"
   ]
  },
  {
   "cell_type": "code",
   "execution_count": 9,
   "id": "436f22f4-6a8f-4175-913a-cb97d9c6d24f",
   "metadata": {
    "tags": []
   },
   "outputs": [],
   "source": [
    "unemployment_csv = './data/2019_unemployment.csv'\n",
    "education_csv = './data/education_2019.csv'\n",
    "population_csv = './data/nst-est2019-alldata.csv'\n",
    "snaps_csv = './data/snaps_data_2019.csv'"
   ]
  },
  {
   "cell_type": "code",
   "execution_count": 12,
   "id": "8712c5ac-f31b-4fc9-ab37-10bf88192487",
   "metadata": {
    "tags": []
   },
   "outputs": [],
   "source": [
    "unemployment_df = pd.read_csv(unemployment_csv)\n",
    "education_df = pd.read_csv(education_csv)\n",
    "pop_df = pd.read_csv(population_csv)\n",
    "pop_df = pop_df[[\"NAME\", \"POPESTIMATE2019\"]].copy()\n",
    "snaps_df = pd.read_csv(snaps_csv)\n",
    "\n",
    "education_df = education_df.rename(columns={\"State or Other Area\": \"State\", \"2019 Actual\": \"Education Budget\"})\n",
    "unemployment_df = unemployment_df.rename(columns={\"state\": \"State\", \"2019 rate\": \"Unemployment Rate\"})\n",
    "pop_df = pop_df.rename(columns={\"NAME\": \"State\", \"POPESTIMATE2019\": \"Population Estimate\"})\n",
    "snaps_df = snaps_df.rename(columns = {\"state\": \"State\", \"household_participants\": \"SNAPS household_participants\",\n",
    "                                   \"individual_participants\": \"SNAPS individual_participants\", \"cost\": \"SNAPS cost\",\n",
    "                                   \"cost_per_person\": \"SNAPS cost_per_person\", \"cost_per_household\": \"SNAPS cost_per_household\"})"
   ]
  },
  {
   "cell_type": "code",
   "execution_count": 13,
   "id": "a1b9e2d3-bb1f-48ec-bedd-3034e9ccfeb1",
   "metadata": {
    "tags": []
   },
   "outputs": [
    {
     "name": "stdout",
     "output_type": "stream",
     "text": [
      "                   State  SNAPS household_participants  \\\n",
      "0            Connecticut                        197761   \n",
      "1                  Maine                         78862   \n",
      "2          Massachusetts                        416128   \n",
      "3          New Hampshire                         36685   \n",
      "4               New York                       1512387   \n",
      "5           Rhode Island                         84445   \n",
      "6                Vermont                         38423   \n",
      "7               Delaware                         58622   \n",
      "8   District of Columbia                         60156   \n",
      "9               Maryland                        308167   \n",
      "10            New Jersey                        325992   \n",
      "11          Pennsylvania                        872822   \n",
      "12              Virginia                        318522   \n",
      "13         West Virginia                        148108   \n",
      "14               Alabama                        315551   \n",
      "15               Florida                       1429884   \n",
      "16               Georgia                        614750   \n",
      "17              Kentucky                        226832   \n",
      "18           Mississippi                        195903   \n",
      "19        North Carolina                        590075   \n",
      "20        South Carolina                        259707   \n",
      "21             Tennessee                        398958   \n",
      "22              Illinois                        816044   \n",
      "23               Indiana                        238303   \n",
      "24                  Iowa                        142502   \n",
      "25              Michigan                        631699   \n",
      "26             Minnesota                        193684   \n",
      "27                  Ohio                        632171   \n",
      "28             Wisconsin                        291721   \n",
      "29               Arizona                        345106   \n",
      "30              Arkansas                        159231   \n",
      "31             Louisiana                        348643   \n",
      "32            New Mexico                        204245   \n",
      "33              Oklahoma                        247673   \n",
      "34                 Texas                       1364935   \n",
      "35                  Utah                         67803   \n",
      "36              Colorado                        207748   \n",
      "37                Kansas                         87158   \n",
      "38              Missouri                        299268   \n",
      "39               Montana                         48974   \n",
      "40              Nebraska                         67643   \n",
      "41          North Dakota                         21864   \n",
      "42          South Dakota                         35168   \n",
      "43               Wyoming                         10912   \n",
      "44                Alaska                         35493   \n",
      "45            California                       1803402   \n",
      "46                Hawaii                         74820   \n",
      "47                 Idaho                         61390   \n",
      "48                Nevada                        206100   \n",
      "49                Oregon                        324903   \n",
      "50            Washington                        482025   \n",
      "\n",
      "    SNAPS individual_participants  SNAPS cost  SNAPS cost_per_person  \\\n",
      "0                          340447   584718600                 246.39   \n",
      "1                          144433   203630527                 215.18   \n",
      "2                          703516  1131148466                 226.52   \n",
      "3                           70412    92889191                 211.01   \n",
      "4                         2661700  4339617966                 239.12   \n",
      "5                          141232   244223564                 241.01   \n",
      "6                           68277   100248674                 217.42   \n",
      "7                          119787   178138585                 253.23   \n",
      "8                          101230   172078913                 238.38   \n",
      "9                          570444   878649666                 237.60   \n",
      "10                         649128   953558696                 243.76   \n",
      "11                        1627640  2513696584                 240.00   \n",
      "12                         654882  1002380166                 262.25   \n",
      "13                         282662   397899950                 223.88   \n",
      "14                         667043  1032064886                 272.56   \n",
      "15                        2649741  4035386245                 235.18   \n",
      "16                        1332536  2115101241                 286.72   \n",
      "17                         502241   739297747                 271.60   \n",
      "18                         420873   605780127                 257.69   \n",
      "19                        1228424  1863656810                 263.20   \n",
      "20                         558722   854652751                 274.24   \n",
      "21                         832130  1307248122                 273.05   \n",
      "22                        1639396  2646035880                 270.21   \n",
      "23                         530384   819644875                 286.63   \n",
      "24                         295682   429315218                 251.06   \n",
      "25                        1181972  1701430344                 224.45   \n",
      "26                         381779   509464759                 219.20   \n",
      "27                        1273257  2020497444                 266.34   \n",
      "28                         572323   778373061                 222.35   \n",
      "29                         736883  1146712214                 276.90   \n",
      "30                         354917   460333605                 240.92   \n",
      "31                         749560  1214657938                 290.33   \n",
      "32                         415161   632907856                 258.23   \n",
      "33                         531728   819546294                 275.75   \n",
      "34                        3187238  4767112796                 291.05   \n",
      "35                         160829   234552832                 288.28   \n",
      "36                         415289   639000457                 256.32   \n",
      "37                         185329   265322548                 253.68   \n",
      "38                         639338   996212141                 277.40   \n",
      "39                          99368   146944184                 250.04   \n",
      "40                         148768   221960791                 273.45   \n",
      "41                          45312    68485818                 261.03   \n",
      "42                          75020   121995672                 289.08   \n",
      "43                          24309    36277115                 277.04   \n",
      "44                          78932   171091672                 401.70   \n",
      "45                        3529470  5977281299                 276.20   \n",
      "46                         144922   448431408                 499.46   \n",
      "47                         135922   192918233                 261.88   \n",
      "48                         391569   587953503                 237.73   \n",
      "49                         554927   884189650                 226.78   \n",
      "50                         833128  1192380309                 206.14   \n",
      "\n",
      "    SNAPS cost_per_household  \n",
      "0                     143.13  \n",
      "1                     117.49  \n",
      "2                     133.99  \n",
      "3                     109.94  \n",
      "4                     135.87  \n",
      "5                     144.10  \n",
      "6                     122.36  \n",
      "7                     123.93  \n",
      "8                     141.66  \n",
      "9                     128.36  \n",
      "10                    122.42  \n",
      "11                    128.70  \n",
      "12                    127.55  \n",
      "13                    117.31  \n",
      "14                    128.94  \n",
      "15                    126.91  \n",
      "16                    132.27  \n",
      "17                    122.67  \n",
      "18                    119.95  \n",
      "19                    126.43  \n",
      "20                    127.47  \n",
      "21                    130.91  \n",
      "22                    134.50  \n",
      "23                    128.78  \n",
      "24                    121.00  \n",
      "25                    119.96  \n",
      "26                    111.20  \n",
      "27                    132.24  \n",
      "28                    113.34  \n",
      "29                    129.68  \n",
      "30                    108.08  \n",
      "31                    135.04  \n",
      "32                    127.04  \n",
      "33                    128.44  \n",
      "34                    124.64  \n",
      "35                    121.53  \n",
      "36                    128.22  \n",
      "37                    119.30  \n",
      "38                    129.85  \n",
      "39                    123.23  \n",
      "40                    124.33  \n",
      "41                    125.95  \n",
      "42                    135.51  \n",
      "43                    124.36  \n",
      "44                    180.63  \n",
      "45                    141.13  \n",
      "46                    257.86  \n",
      "47                    118.28  \n",
      "48                    125.13  \n",
      "49                    132.78  \n",
      "50                    119.27  \n"
     ]
    }
   ],
   "source": [
    "\n",
    "print(snaps_df)"
   ]
  },
  {
   "cell_type": "code",
   "execution_count": 14,
   "id": "35d12185-2887-4573-866c-c29f532c24de",
   "metadata": {
    "tags": []
   },
   "outputs": [
    {
     "name": "stdout",
     "output_type": "stream",
     "text": [
      "        State  Education Budget  Unemployment Rate\n",
      "0     Alabama      2.775338e+09                3.2\n",
      "1      Alaska      4.005232e+08                5.6\n",
      "2     Arizona      5.143402e+09                4.8\n",
      "3    Arkansas      1.350409e+09                3.5\n",
      "4  California      1.721222e+10                4.1\n"
     ]
    }
   ],
   "source": [
    "df = pd.merge(education_df, unemployment_df, on='State').drop(columns='rank')\n",
    "print(df.head())"
   ]
  },
  {
   "cell_type": "code",
   "execution_count": 15,
   "id": "34962437-aa05-4994-bc75-9afbbfe69bf3",
   "metadata": {
    "tags": []
   },
   "outputs": [
    {
     "name": "stdout",
     "output_type": "stream",
     "text": [
      "        State  Education Budget  Unemployment Rate  Population Estimate\n",
      "0     Alabama      2.775338e+09                3.2              4903185\n",
      "1      Alaska      4.005232e+08                5.6               731545\n",
      "2     Arizona      5.143402e+09                4.8              7278717\n",
      "3    Arkansas      1.350409e+09                3.5              3017804\n",
      "4  California      1.721222e+10                4.1             39512223\n"
     ]
    }
   ],
   "source": [
    "df = pd.merge(df, pop_df, how='left', on='State')\n",
    "print(df.head())"
   ]
  },
  {
   "cell_type": "code",
   "execution_count": 16,
   "id": "a153e604-3cba-4192-a513-06ccbb86017d",
   "metadata": {
    "tags": []
   },
   "outputs": [],
   "source": [
    "df = pd.merge(df, snaps_df, how='left', on='State')"
   ]
  },
  {
   "cell_type": "code",
   "execution_count": 17,
   "id": "cf1f76c2-c0b8-4134-b21e-cd32a3caf31b",
   "metadata": {
    "tags": []
   },
   "outputs": [
    {
     "name": "stdout",
     "output_type": "stream",
     "text": [
      "        State  Education Budget  Unemployment Rate  Population Estimate  \\\n",
      "0     Alabama      2.775338e+09                3.2              4903185   \n",
      "1      Alaska      4.005232e+08                5.6               731545   \n",
      "2     Arizona      5.143402e+09                4.8              7278717   \n",
      "3    Arkansas      1.350409e+09                3.5              3017804   \n",
      "4  California      1.721222e+10                4.1             39512223   \n",
      "\n",
      "   SNAPS household_participants  SNAPS individual_participants  SNAPS cost  \\\n",
      "0                        315551                         667043  1032064886   \n",
      "1                         35493                          78932   171091672   \n",
      "2                        345106                         736883  1146712214   \n",
      "3                        159231                         354917   460333605   \n",
      "4                       1803402                        3529470  5977281299   \n",
      "\n",
      "   SNAPS cost_per_person  SNAPS cost_per_household  \n",
      "0                 272.56                    128.94  \n",
      "1                 401.70                    180.63  \n",
      "2                 276.90                    129.68  \n",
      "3                 240.92                    108.08  \n",
      "4                 276.20                    141.13  \n"
     ]
    }
   ],
   "source": [
    "print(df.head())"
   ]
  },
  {
   "cell_type": "code",
   "execution_count": 18,
   "id": "4b330c19-01dd-4c81-8ae1-afe414bd3743",
   "metadata": {
    "tags": []
   },
   "outputs": [],
   "source": [
    "df.to_csv('./data/2019-combined.csv', index=False)"
   ]
  },
  {
   "cell_type": "code",
   "execution_count": null,
   "id": "5a6ea63f-d648-4d98-a767-500e36fc2dd8",
   "metadata": {},
   "outputs": [],
   "source": []
  }
 ],
 "metadata": {
  "kernelspec": {
   "display_name": "Python 3 (ipykernel)",
   "language": "python",
   "name": "python3"
  },
  "language_info": {
   "codemirror_mode": {
    "name": "ipython",
    "version": 3
   },
   "file_extension": ".py",
   "mimetype": "text/x-python",
   "name": "python",
   "nbconvert_exporter": "python",
   "pygments_lexer": "ipython3",
   "version": "3.9.6"
  }
 },
 "nbformat": 4,
 "nbformat_minor": 5
}
