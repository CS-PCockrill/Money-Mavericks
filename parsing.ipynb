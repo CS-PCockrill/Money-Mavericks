{
 "cells": [
  {
   "cell_type": "code",
   "execution_count": 24,
   "id": "f8954b0a-a97a-431a-bd69-23a453a3bc64",
   "metadata": {
    "tags": []
   },
   "outputs": [],
   "source": [
    "import csv\n",
    "import numpy as np\n",
    "import pandas as pd"
   ]
  },
  {
   "cell_type": "code",
   "execution_count": 25,
   "id": "04cd942c-913e-4f4c-ae0c-10456c9c2500",
   "metadata": {
    "tags": []
   },
   "outputs": [],
   "source": [
    "#https://www.census.gov/data/datasets/time-series/demo/popest/2010s-state-total.html"
   ]
  },
  {
   "cell_type": "code",
   "execution_count": 26,
   "id": "0fd2ff8f-f7b2-42b0-9dd5-0afb3f40e59a",
   "metadata": {
    "tags": []
   },
   "outputs": [],
   "source": [
    "# EDIT THIS TO CONTAIN ALL YEARS YOU WANT TO ANALYZE\n",
    "years = ['2019']"
   ]
  },
  {
   "cell_type": "code",
   "execution_count": 27,
   "id": "e780ee7c-d73a-4513-8dfa-e1c36fb45eff",
   "metadata": {
    "tags": []
   },
   "outputs": [],
   "source": [
    "def combine(year):\n",
    "    unemployment_csv = f'./data/{year}_unemployment.csv'\n",
    "    education_csv = f'./data/education_{year}.csv'\n",
    "    population_csv = f'./data/nst-est2019-alldata.csv'\n",
    "    snaps_csv = f'./data/snaps_data_{year}.csv'\n",
    "    \n",
    "    unemployment_df = pd.read_csv(unemployment_csv)\n",
    "    education_df = pd.read_csv(education_csv)\n",
    "    pop_df = pd.read_csv(population_csv)\n",
    "    pop_df = pop_df[[\"NAME\", f\"POPESTIMATE{year}\"]].copy()\n",
    "    snaps_df = pd.read_csv(snaps_csv)\n",
    "    education_df = education_df.rename(columns={\"State or Other Area\": \"State\", f\"{year} Actual\": \"Education Budget\"})\n",
    "    unemployment_df = unemployment_df.rename(columns={\"state\": \"State\", f\"{year} rate\": \"Unemployment Rate\"})\n",
    "    pop_df = pop_df.rename(columns={\"NAME\": \"State\", f\"POPESTIMATE{year}\": \"Population Estimate\"})\n",
    "    snaps_df = snaps_df.rename(columns = {\"state\": \"State\", \"household_participants\": \"SNAPS household_participants\",\n",
    "                                   \"individual_participants\": \"SNAPS individual_participants\", \"cost\": \"SNAPS cost\",\n",
    "                                   \"cost_per_person\": \"SNAPS cost_per_person\", \"cost_per_household\": \"SNAPS cost_per_household\"})\n",
    "    \n",
    "    df = pd.merge(education_df, unemployment_df, on='State').drop(columns='rank')\n",
    "    df = pd.merge(df, pop_df, how='left', on='State')\n",
    "    df = pd.merge(df, snaps_df, how='left', on='State')\n",
    "    \n",
    "    return df"
   ]
  },
  {
   "cell_type": "code",
   "execution_count": 28,
   "id": "12962b54-e169-4cb2-b4e6-f8e4c151c220",
   "metadata": {
    "tags": []
   },
   "outputs": [
    {
     "name": "stdout",
     "output_type": "stream",
     "text": [
      "        State  Education Budget  Unemployment Rate  Population Estimate  \\\n",
      "0     Alabama      2.775338e+09                3.2              4903185   \n",
      "1      Alaska      4.005232e+08                5.6               731545   \n",
      "2     Arizona      5.143402e+09                4.8              7278717   \n",
      "3    Arkansas      1.350409e+09                3.5              3017804   \n",
      "4  California      1.721222e+10                4.1             39512223   \n",
      "\n",
      "   SNAPS household_participants  SNAPS individual_participants  SNAPS cost  \\\n",
      "0                        315551                         667043  1032064886   \n",
      "1                         35493                          78932   171091672   \n",
      "2                        345106                         736883  1146712214   \n",
      "3                        159231                         354917   460333605   \n",
      "4                       1803402                        3529470  5977281299   \n",
      "\n",
      "   SNAPS cost_per_person  SNAPS cost_per_household  \n",
      "0                 272.56                    128.94  \n",
      "1                 401.70                    180.63  \n",
      "2                 276.90                    129.68  \n",
      "3                 240.92                    108.08  \n",
      "4                 276.20                    141.13  \n"
     ]
    }
   ],
   "source": [
    "for year in years:\n",
    "    df = combine(year)\n",
    "    print(df.head())\n",
    "    df.to_csv(f'./data/{year}-combined.csv', index=False)"
   ]
  },
  {
   "cell_type": "code",
   "execution_count": 9,
   "id": "436f22f4-6a8f-4175-913a-cb97d9c6d24f",
   "metadata": {
    "tags": []
   },
   "outputs": [],
   "source": []
  },
  {
   "cell_type": "code",
   "execution_count": 12,
   "id": "8712c5ac-f31b-4fc9-ab37-10bf88192487",
   "metadata": {
    "tags": []
   },
   "outputs": [],
   "source": [
    "\n",
    "\n"
   ]
  },
  {
   "cell_type": "code",
   "execution_count": null,
   "id": "a1b9e2d3-bb1f-48ec-bedd-3034e9ccfeb1",
   "metadata": {
    "tags": []
   },
   "outputs": [],
   "source": [
    "\n"
   ]
  },
  {
   "cell_type": "code",
   "execution_count": 14,
   "id": "35d12185-2887-4573-866c-c29f532c24de",
   "metadata": {
    "tags": []
   },
   "outputs": [
    {
     "name": "stdout",
     "output_type": "stream",
     "text": [
      "        State  Education Budget  Unemployment Rate\n",
      "0     Alabama      2.775338e+09                3.2\n",
      "1      Alaska      4.005232e+08                5.6\n",
      "2     Arizona      5.143402e+09                4.8\n",
      "3    Arkansas      1.350409e+09                3.5\n",
      "4  California      1.721222e+10                4.1\n"
     ]
    }
   ],
   "source": []
  },
  {
   "cell_type": "code",
   "execution_count": 15,
   "id": "34962437-aa05-4994-bc75-9afbbfe69bf3",
   "metadata": {
    "tags": []
   },
   "outputs": [
    {
     "name": "stdout",
     "output_type": "stream",
     "text": [
      "        State  Education Budget  Unemployment Rate  Population Estimate\n",
      "0     Alabama      2.775338e+09                3.2              4903185\n",
      "1      Alaska      4.005232e+08                5.6               731545\n",
      "2     Arizona      5.143402e+09                4.8              7278717\n",
      "3    Arkansas      1.350409e+09                3.5              3017804\n",
      "4  California      1.721222e+10                4.1             39512223\n"
     ]
    }
   ],
   "source": []
  },
  {
   "cell_type": "code",
   "execution_count": 16,
   "id": "a153e604-3cba-4192-a513-06ccbb86017d",
   "metadata": {
    "tags": []
   },
   "outputs": [],
   "source": []
  },
  {
   "cell_type": "code",
   "execution_count": 17,
   "id": "cf1f76c2-c0b8-4134-b21e-cd32a3caf31b",
   "metadata": {
    "tags": []
   },
   "outputs": [
    {
     "name": "stdout",
     "output_type": "stream",
     "text": [
      "        State  Education Budget  Unemployment Rate  Population Estimate  \\\n",
      "0     Alabama      2.775338e+09                3.2              4903185   \n",
      "1      Alaska      4.005232e+08                5.6               731545   \n",
      "2     Arizona      5.143402e+09                4.8              7278717   \n",
      "3    Arkansas      1.350409e+09                3.5              3017804   \n",
      "4  California      1.721222e+10                4.1             39512223   \n",
      "\n",
      "   SNAPS household_participants  SNAPS individual_participants  SNAPS cost  \\\n",
      "0                        315551                         667043  1032064886   \n",
      "1                         35493                          78932   171091672   \n",
      "2                        345106                         736883  1146712214   \n",
      "3                        159231                         354917   460333605   \n",
      "4                       1803402                        3529470  5977281299   \n",
      "\n",
      "   SNAPS cost_per_person  SNAPS cost_per_household  \n",
      "0                 272.56                    128.94  \n",
      "1                 401.70                    180.63  \n",
      "2                 276.90                    129.68  \n",
      "3                 240.92                    108.08  \n",
      "4                 276.20                    141.13  \n"
     ]
    }
   ],
   "source": []
  },
  {
   "cell_type": "code",
   "execution_count": 18,
   "id": "4b330c19-01dd-4c81-8ae1-afe414bd3743",
   "metadata": {
    "tags": []
   },
   "outputs": [],
   "source": []
  },
  {
   "cell_type": "code",
   "execution_count": null,
   "id": "5a6ea63f-d648-4d98-a767-500e36fc2dd8",
   "metadata": {},
   "outputs": [],
   "source": []
  }
 ],
 "metadata": {
  "kernelspec": {
   "display_name": "Python 3 (ipykernel)",
   "language": "python",
   "name": "python3"
  },
  "language_info": {
   "codemirror_mode": {
    "name": "ipython",
    "version": 3
   },
   "file_extension": ".py",
   "mimetype": "text/x-python",
   "name": "python",
   "nbconvert_exporter": "python",
   "pygments_lexer": "ipython3",
   "version": "3.9.6"
  }
 },
 "nbformat": 4,
 "nbformat_minor": 5
}
