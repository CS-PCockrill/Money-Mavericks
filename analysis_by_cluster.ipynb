{
 "cells": [
  {
   "cell_type": "code",
   "execution_count": 1,
   "id": "79a67a13-ff7f-4c66-99c1-91d4b0445f35",
   "metadata": {
    "tags": []
   },
   "outputs": [],
   "source": [
    "import matplotlib.pyplot as plt\n",
    "import pandas as pd\n",
    "from sklearn.model_selection import train_test_split\n",
    "from sklearn.preprocessing import OneHotEncoder\n",
    "from sklearn.linear_model import LinearRegression\n",
    "import seaborn as sns\n",
    "import statsmodels.api as sm\n",
    "import json"
   ]
  },
  {
   "cell_type": "code",
   "execution_count": 2,
   "id": "a716a33a-7357-44a1-9554-5ba0ac643e6c",
   "metadata": {},
   "outputs": [
    {
     "data": {
      "text/plain": [
       "'At this point, job_growth data is insubstantial and not stretching over our corpus of data.  All areas that will need to be modified\\nwhen this changes are indicated with a #TODO_JG comment.'"
      ]
     },
     "execution_count": 2,
     "metadata": {},
     "output_type": "execute_result"
    }
   ],
   "source": [
    "'''At this point, job_growth data is insubstantial and not stretching over our corpus of data.  All areas that will need to be modified\n",
    "when this changes are indicated with a #TODO_JG comment.'''"
   ]
  },
  {
   "cell_type": "code",
   "execution_count": 3,
   "id": "d09ecd0c-0d87-476d-9662-ee0cc753d208",
   "metadata": {
    "tags": []
   },
   "outputs": [
    {
     "name": "stdout",
     "output_type": "stream",
     "text": [
      "        State  Education Budget  Unemployment Rate  Population Estimate  \\\n",
      "0     Alabama      5.577678e+08                4.6              4447207   \n",
      "1      Alaska      1.778816e+08                6.6               626933   \n",
      "2     Arizona      6.679765e+08                3.9              5130247   \n",
      "3    Arkansas      3.284035e+08                4.4              2673293   \n",
      "4  California      3.792097e+09                4.9             33871653   \n",
      "\n",
      "   SNAPS household_participants  SNAPS individual_participants    SNAPS cost  \\\n",
      "0                   156104.5833                   3.960572e+05  3.437353e+08   \n",
      "1                    13208.3333                   3.752433e+04  4.583456e+07   \n",
      "2                    95567.5000                   2.590026e+05  2.402456e+08   \n",
      "3                    98764.3333                   2.465715e+05  2.062364e+08   \n",
      "4                   672007.0000                   1.830677e+06  1.639333e+09   \n",
      "\n",
      "   SNAPS cost_per_person  SNAPS cost_per_household  Year  \n",
      "0                72.3244                  183.4962  2000  \n",
      "1               101.7885                  289.1770  2000  \n",
      "2                77.2983                  209.4903  2000  \n",
      "3                69.7013                  174.0139  2000  \n",
      "4                74.6233                  203.2882  2000  \n"
     ]
    }
   ],
   "source": [
    "#data_source = '../Money-Mavericks/data/data.csv'\n",
    "data_source = './data/data.csv'\n",
    "df = pd.read_csv(data_source)\n",
    "print(df.head())"
   ]
  },
  {
   "cell_type": "code",
   "execution_count": 4,
   "id": "7194aab2-cdb0-4c1b-a6ec-d860fc5149ac",
   "metadata": {
    "tags": []
   },
   "outputs": [
    {
     "data": {
      "text/plain": [
       "'Here, we read in a given cluster. For the sake of this, the code was pre-emptively written to expect a 2D array\\nEach nested array will be considered a cluster, and will contain the names of all the states contained within the cluster.\\nShould this change, our code will be editted to reflect this.  All areas where the cluster data are used will be marked with a #TODO_CLUSTER\\ncomment for easy lookup.'"
      ]
     },
     "execution_count": 4,
     "metadata": {},
     "output_type": "execute_result"
    }
   ],
   "source": [
    "'''Here, we read in a given cluster. For the sake of this, the code was pre-emptively written to expect a 2D array\n",
    "Each nested array will be considered a cluster, and will contain the names of all the states contained within the cluster.\n",
    "Should this change, our code will be editted to reflect this.  All areas where the cluster data are used will be marked with a #TODO_CLUSTER\n",
    "comment for easy lookup.'''"
   ]
  },
  {
   "cell_type": "code",
   "execution_count": 9,
   "id": "e729416a-ca75-478f-81a3-7a464d540b53",
   "metadata": {
    "tags": []
   },
   "outputs": [
    {
     "name": "stdout",
     "output_type": "stream",
     "text": [
      "[['Alabama', 'Alaska', 'Arizona', 'Arkansas', 'California', 'Florida', 'Georgia', 'Illinois', 'Kentucky', 'Louisiana', 'Maine', 'Michigan', 'Mississippi', 'Nevada', 'New Mexico', 'New York', 'North Carolina', 'Ohio', 'Oklahoma', 'Oregon', 'Pennsylvania', 'Rhode Island', 'South Carolina', 'Tennessee', 'Texas', 'Washington', 'West Virginia'], ['Colorado', 'Connecticut', 'Delaware', 'Hawaii', 'Idaho', 'Indiana', 'Iowa', 'Kansas', 'Maryland', 'Massachusetts', 'Minnesota', 'Missouri', 'Montana', 'Nebraska', 'New Hampshire', 'New Jersey', 'North Dakota', 'South Dakota', 'Utah', 'Vermont', 'Virginia', 'Wisconsin', 'Wyoming'], ['District of Columbia']]\n"
     ]
    }
   ],
   "source": [
    "#TODO_CLUSTER\n",
    "cluster_source = './data/clustered_states.json'\n",
    "with open(cluster_source, 'r') as fp:\n",
    "    data = json.load(fp)\n",
    "\n",
    "clusters = []\n",
    "\n",
    "for key, value in data.items():\n",
    "    if(len(value) > 2):\n",
    "        clusters.append(value)\n",
    "\n",
    "print(clusters)"
   ]
  },
  {
   "cell_type": "code",
   "execution_count": 10,
   "id": "4f1f8fd2-6f98-435d-b3cd-612b71efe572",
   "metadata": {},
   "outputs": [],
   "source": [
    "#Now for each cluster we create a separate x and y"
   ]
  },
  {
   "cell_type": "code",
   "execution_count": 11,
   "id": "2bb18b24-1e36-45e4-8875-8b36d5ec69d2",
   "metadata": {
    "tags": []
   },
   "outputs": [],
   "source": [
    "df_by_cluster = []\n",
    "for cluster in clusters:\n",
    "    c_df = df.loc[df['State'].isin(cluster), :].copy()\n",
    "    c_df = c_df.sample(frac=1).reset_index().drop(columns='index')\n",
    "    x = c_df[[\"State\", \"Education Budget\", \"Unemployment Rate\", \"Population Estimate\", \"Year\"]] #TODO_JG\n",
    "    x = pd.get_dummies(data=x, drop_first=True)\n",
    "    y = c_df[\"SNAPS cost\"]\n",
    "    df_by_cluster.append([x,y])"
   ]
  },
  {
   "cell_type": "code",
   "execution_count": 12,
   "id": "7ffcfd76-a573-403e-b3b9-9c1b5ea134fa",
   "metadata": {
    "tags": []
   },
   "outputs": [],
   "source": [
    "#Now that that's created, we're going to loop over each cluster and individually create a linear regression model for them.  "
   ]
  },
  {
   "cell_type": "code",
   "execution_count": 17,
   "id": "c3defc2e-7939-43db-9692-63bdf4b351ef",
   "metadata": {
    "tags": []
   },
   "outputs": [
    {
     "name": "stdout",
     "output_type": "stream",
     "text": [
      "[     Education Budget  Unemployment Rate  Population Estimate  Year  \\\n",
      "0        1.960014e+09                3.8              2982644  2007   \n",
      "1        3.188148e+08                4.0               638168  2003   \n",
      "2        2.780372e+09                3.9              5450623  2015   \n",
      "3        3.770574e+09                3.3              5639632  2019   \n",
      "4        1.320282e+09                8.5              5640996  2009   \n",
      "..                ...                ...                  ...   ...   \n",
      "478      2.668430e+09                3.0              7673725  2007   \n",
      "479      4.392252e+09                5.6              5376643  2012   \n",
      "480      3.708829e+08                2.7              4302086  2000   \n",
      "481      3.751823e+08                7.3               907381  2011   \n",
      "482      1.500114e+08                4.9              1293957  2000   \n",
      "\n",
      "     State_Connecticut  State_Delaware  State_Hawaii  State_Idaho  \\\n",
      "0                    0               0             0            0   \n",
      "1                    0               0             0            0   \n",
      "2                    0               0             0            0   \n",
      "3                    0               0             0            0   \n",
      "4                    0               0             0            0   \n",
      "..                 ...             ...           ...          ...   \n",
      "478                  0               0             0            0   \n",
      "479                  0               0             0            0   \n",
      "480                  0               0             0            0   \n",
      "481                  0               1             0            0   \n",
      "482                  0               0             0            1   \n",
      "\n",
      "     State_Indiana  State_Iowa  ...  State_Nebraska  State_New Hampshire  \\\n",
      "0                0           1  ...               0                    0   \n",
      "1                0           0  ...               0                    0   \n",
      "2                0           0  ...               0                    0   \n",
      "3                0           0  ...               0                    0   \n",
      "4                0           0  ...               0                    0   \n",
      "..             ...         ...  ...             ...                  ...   \n",
      "478              0           0  ...               0                    0   \n",
      "479              0           0  ...               0                    0   \n",
      "480              0           0  ...               0                    0   \n",
      "481              0           0  ...               0                    0   \n",
      "482              0           0  ...               0                    0   \n",
      "\n",
      "     State_New Jersey  State_North Dakota  State_South Dakota  State_Utah  \\\n",
      "0                   0                   0                   0           0   \n",
      "1                   0                   1                   0           0   \n",
      "2                   0                   0                   0           0   \n",
      "3                   0                   0                   0           0   \n",
      "4                   0                   0                   0           0   \n",
      "..                ...                 ...                 ...         ...   \n",
      "478                 0                   0                   0           0   \n",
      "479                 0                   0                   0           0   \n",
      "480                 0                   0                   0           0   \n",
      "481                 0                   0                   0           0   \n",
      "482                 0                   0                   0           0   \n",
      "\n",
      "     State_Vermont  State_Virginia  State_Wisconsin  State_Wyoming  \n",
      "0                0               0                0              0  \n",
      "1                0               0                0              0  \n",
      "2                0               0                0              0  \n",
      "3                0               0                0              0  \n",
      "4                0               0                1              0  \n",
      "..             ...             ...              ...            ...  \n",
      "478              0               1                0              0  \n",
      "479              0               0                0              0  \n",
      "480              0               0                0              0  \n",
      "481              0               0                0              0  \n",
      "482              0               0                0              0  \n",
      "\n",
      "[483 rows x 26 columns], 0      265450404.0\n",
      "1       36702541.0\n",
      "2      771959823.0\n",
      "3      509464759.0\n",
      "4      679971117.0\n",
      "          ...     \n",
      "478    551446240.0\n",
      "479    749536081.0\n",
      "480    126585277.0\n",
      "481    205304944.0\n",
      "482     46163882.0\n",
      "Name: SNAPS cost, Length: 483, dtype: float64]\n"
     ]
    }
   ],
   "source": [
    "print(df_by_cluster[1])"
   ]
  },
  {
   "cell_type": "code",
   "execution_count": 13,
   "id": "6048f502-12d1-410b-8ab8-897e72c4f432",
   "metadata": {
    "tags": []
   },
   "outputs": [],
   "source": [
    "#setting up globals\n",
    "cluster_models = []\n",
    "cluster_parameters = [] #expecting [x_train, x_test, y_train, y_test]\n",
    "cluster_predictions = []\n",
    "cluster_ls = []"
   ]
  },
  {
   "cell_type": "code",
   "execution_count": 14,
   "id": "6b632b6e-92dc-44e9-8f88-f3adcbc759f3",
   "metadata": {
    "tags": []
   },
   "outputs": [
    {
     "data": {
      "text/plain": [
       "\"Now it's just linear regression, straight up and down.\""
      ]
     },
     "execution_count": 14,
     "metadata": {},
     "output_type": "execute_result"
    }
   ],
   "source": [
    "'''Now it's just linear regression, straight up and down.'''"
   ]
  },
  {
   "cell_type": "code",
   "execution_count": 15,
   "id": "70e5e142-fe1a-4bbd-8068-eba8bbffc61d",
   "metadata": {
    "tags": []
   },
   "outputs": [
    {
     "name": "stdout",
     "output_type": "stream",
     "text": [
      "CLUSTER 1 --------------------------------------------\n",
      "contains: ['Alabama', 'Alaska', 'Arizona', 'Arkansas', 'California', 'Florida', 'Georgia', 'Illinois', 'Kentucky', 'Louisiana', 'Maine', 'Michigan', 'Mississippi', 'Nevada', 'New Mexico', 'New York', 'North Carolina', 'Ohio', 'Oklahoma', 'Oregon', 'Pennsylvania', 'Rhode Island', 'South Carolina', 'Tennessee', 'Texas', 'Washington', 'West Virginia']\n",
      "                            OLS Regression Results                            \n",
      "==============================================================================\n",
      "Dep. Variable:             SNAPS cost   R-squared:                       0.936\n",
      "Model:                            OLS   Adj. R-squared:                  0.931\n",
      "Method:                 Least Squares   F-statistic:                     204.3\n",
      "Date:                Thu, 27 Apr 2023   Prob (F-statistic):          1.28e-230\n",
      "Time:                        12:26:20   Log-Likelihood:                -9570.5\n",
      "No. Observations:                 453   AIC:                         1.920e+04\n",
      "Df Residuals:                     422   BIC:                         1.933e+04\n",
      "Df Model:                          30                                         \n",
      "Covariance Type:            nonrobust                                         \n",
      "========================================================================================\n",
      "                           coef    std err          t      P>|t|      [0.025      0.975]\n",
      "----------------------------------------------------------------------------------------\n",
      "const                -4.694e+10   7.89e+09     -5.948      0.000   -6.25e+10   -3.14e+10\n",
      "Education Budget         0.2544      0.018     14.234      0.000       0.219       0.289\n",
      "Unemployment Rate     9.471e+07   1.01e+07      9.396      0.000    7.49e+07    1.15e+08\n",
      "Population Estimate    450.5033     35.720     12.612      0.000     380.292     520.715\n",
      "Year                  2.223e+07   3.95e+06      5.630      0.000    1.45e+07       3e+07\n",
      "State_Alaska           1.34e+09   1.77e+08      7.588      0.000    9.93e+08    1.69e+09\n",
      "State_Arizona        -1.504e+09   1.47e+08    -10.267      0.000   -1.79e+09   -1.22e+09\n",
      "State_Arkansas        6.625e+08   1.36e+08      4.869      0.000    3.95e+08     9.3e+08\n",
      "State_California     -1.402e+10   1.06e+09    -13.263      0.000   -1.61e+10   -1.19e+10\n",
      "State_Florida        -5.049e+09   4.67e+08    -10.812      0.000   -5.97e+09   -4.13e+09\n",
      "State_Georgia        -1.684e+09   1.98e+08     -8.506      0.000   -2.07e+09    -1.3e+09\n",
      "State_Illinois       -3.403e+09   2.88e+08    -11.802      0.000   -3.97e+09   -2.84e+09\n",
      "State_Kentucky        1.158e+08   1.23e+08      0.944      0.346   -1.25e+08    3.57e+08\n",
      "State_Louisiana       2.692e+08   1.24e+08      2.179      0.030    2.63e+07    5.12e+08\n",
      "State_Maine           1.287e+09   1.64e+08      7.863      0.000    9.65e+08    1.61e+09\n",
      "State_Michigan       -2.225e+09   2.13e+08    -10.458      0.000   -2.64e+09   -1.81e+09\n",
      "State_Mississippi     5.922e+08    1.4e+08      4.245      0.000    3.18e+08    8.66e+08\n",
      "State_Nevada          6.528e+08   1.45e+08      4.502      0.000    3.68e+08    9.38e+08\n",
      "State_New Mexico      1.052e+09   1.52e+08      6.944      0.000    7.54e+08    1.35e+09\n",
      "State_New York       -5.515e+09   4.82e+08    -11.433      0.000   -6.46e+09   -4.57e+09\n",
      "State_North Carolina  -1.82e+09   1.99e+08     -9.153      0.000   -2.21e+09   -1.43e+09\n",
      "State_Ohio           -2.784e+09   2.54e+08    -10.964      0.000   -3.28e+09   -2.28e+09\n",
      "State_Oklahoma          4.3e+08   1.29e+08      3.330      0.001    1.76e+08    6.84e+08\n",
      "State_Oregon          3.025e+08   1.29e+08      2.350      0.019    4.95e+07    5.55e+08\n",
      "State_Pennsylvania   -3.572e+09   2.82e+08    -12.670      0.000   -4.13e+09   -3.02e+09\n",
      "State_Rhode Island    1.197e+09    1.7e+08      7.030      0.000    8.62e+08    1.53e+09\n",
      "State_South Carolina   2.64e+07   1.23e+08      0.216      0.829   -2.14e+08    2.67e+08\n",
      "State_Tennessee       -3.84e+08   1.37e+08     -2.810      0.005   -6.53e+08   -1.15e+08\n",
      "State_Texas          -7.634e+09   6.64e+08    -11.502      0.000   -8.94e+09   -6.33e+09\n",
      "State_Washington     -8.315e+08   1.44e+08     -5.762      0.000   -1.12e+09   -5.48e+08\n",
      "State_West Virginia   1.001e+09   1.57e+08      6.357      0.000    6.91e+08    1.31e+09\n",
      "==============================================================================\n",
      "Omnibus:                       57.846   Durbin-Watson:                   1.908\n",
      "Prob(Omnibus):                  0.000   Jarque-Bera (JB):              477.190\n",
      "Skew:                          -0.022   Prob(JB):                    2.40e-104\n",
      "Kurtosis:                       8.028   Cond. No.                     2.15e+12\n",
      "==============================================================================\n",
      "\n",
      "Notes:\n",
      "[1] Standard Errors assume that the covariance matrix of the errors is correctly specified.\n",
      "[2] The condition number is large, 2.15e+12. This might indicate that there are\n",
      "strong multicollinearity or other numerical problems.\n",
      "CLUSTER 1 --------------------------------------------\n",
      "contains: ['Alabama', 'Alaska', 'Arizona', 'Arkansas', 'California', 'Florida', 'Georgia', 'Illinois', 'Kentucky', 'Louisiana', 'Maine', 'Michigan', 'Mississippi', 'Nevada', 'New Mexico', 'New York', 'North Carolina', 'Ohio', 'Oklahoma', 'Oregon', 'Pennsylvania', 'Rhode Island', 'South Carolina', 'Tennessee', 'Texas', 'Washington', 'West Virginia']\n",
      "                            OLS Regression Results                            \n",
      "==============================================================================\n",
      "Dep. Variable:             SNAPS cost   R-squared:                       0.918\n",
      "Model:                            OLS   Adj. R-squared:                  0.913\n",
      "Method:                 Least Squares   F-statistic:                     155.5\n",
      "Date:                Thu, 27 Apr 2023   Prob (F-statistic):          5.02e-178\n",
      "Time:                        12:26:21   Log-Likelihood:                -7716.8\n",
      "No. Observations:                 386   AIC:                         1.549e+04\n",
      "Df Residuals:                     359   BIC:                         1.559e+04\n",
      "Df Model:                          26                                         \n",
      "Covariance Type:            nonrobust                                         \n",
      "=======================================================================================\n",
      "                          coef    std err          t      P>|t|      [0.025      0.975]\n",
      "---------------------------------------------------------------------------------------\n",
      "const               -1.897e+10   3.25e+09     -5.838      0.000   -2.54e+10   -1.26e+10\n",
      "Education Budget        0.1469      0.014     10.629      0.000       0.120       0.174\n",
      "Unemployment Rate     4.91e+07   4.39e+06     11.186      0.000    4.05e+07    5.77e+07\n",
      "Population Estimate   328.3389     54.781      5.994      0.000     220.608     436.070\n",
      "Year                 8.576e+06   1.69e+06      5.087      0.000    5.26e+06    1.19e+07\n",
      "State_Connecticut    5.576e+08   8.74e+07      6.378      0.000    3.86e+08    7.29e+08\n",
      "State_Delaware       1.283e+09   2.18e+08      5.883      0.000    8.54e+08    1.71e+09\n",
      "State_Hawaii         1.367e+09   1.95e+08      7.009      0.000    9.83e+08    1.75e+09\n",
      "State_Idaho          1.092e+09   1.85e+08      5.890      0.000    7.27e+08    1.46e+09\n",
      "State_Indiana        -1.87e+08   8.29e+07     -2.255      0.025    -3.5e+08    -2.4e+07\n",
      "State_Iowa           5.674e+08   1.17e+08      4.835      0.000    3.37e+08    7.98e+08\n",
      "State_Kansas         6.934e+08   1.22e+08      5.706      0.000    4.54e+08    9.32e+08\n",
      "State_Maryland       4.215e+07    5.9e+07      0.714      0.476   -7.39e+07    1.58e+08\n",
      "State_Massachusetts  -2.42e+08   9.08e+07     -2.665      0.008   -4.21e+08   -6.34e+07\n",
      "State_Minnesota     -1.981e+08   4.41e+07     -4.491      0.000   -2.85e+08   -1.11e+08\n",
      "State_Missouri       1.615e+08   6.26e+07      2.580      0.010    3.84e+07    2.85e+08\n",
      "State_Montana        1.251e+09   2.14e+08      5.850      0.000     8.3e+08    1.67e+09\n",
      "State_Nebraska        9.42e+08   1.71e+08      5.508      0.000    6.06e+08    1.28e+09\n",
      "State_New Hampshire   1.11e+09   1.98e+08      5.605      0.000     7.2e+08     1.5e+09\n",
      "State_New Jersey    -1.002e+09   2.05e+08     -4.875      0.000   -1.41e+09   -5.98e+08\n",
      "State_North Dakota   1.369e+09    2.3e+08      5.955      0.000    9.17e+08    1.82e+09\n",
      "State_South Dakota   1.338e+09   2.24e+08      5.979      0.000    8.98e+08    1.78e+09\n",
      "State_Utah           6.802e+08   1.27e+08      5.345      0.000     4.3e+08    9.31e+08\n",
      "State_Vermont         1.38e+09   2.33e+08      5.928      0.000    9.22e+08    1.84e+09\n",
      "State_Virginia      -6.762e+08   1.55e+08     -4.361      0.000   -9.81e+08   -3.71e+08\n",
      "State_Wisconsin      3.199e+07   5.38e+07      0.595      0.553   -7.38e+07    1.38e+08\n",
      "State_Wyoming        1.345e+09   2.36e+08      5.691      0.000     8.8e+08    1.81e+09\n",
      "==============================================================================\n",
      "Omnibus:                        3.950   Durbin-Watson:                   2.075\n",
      "Prob(Omnibus):                  0.139   Jarque-Bera (JB):                4.778\n",
      "Skew:                           0.042   Prob(JB):                       0.0917\n",
      "Kurtosis:                       3.538   Cond. No.                     1.08e+12\n",
      "==============================================================================\n",
      "\n",
      "Notes:\n",
      "[1] Standard Errors assume that the covariance matrix of the errors is correctly specified.\n",
      "[2] The condition number is large, 1.08e+12. This might indicate that there are\n",
      "strong multicollinearity or other numerical problems.\n",
      "CLUSTER 1 --------------------------------------------\n",
      "contains: ['Alabama', 'Alaska', 'Arizona', 'Arkansas', 'California', 'Florida', 'Georgia', 'Illinois', 'Kentucky', 'Louisiana', 'Maine', 'Michigan', 'Mississippi', 'Nevada', 'New Mexico', 'New York', 'North Carolina', 'Ohio', 'Oklahoma', 'Oregon', 'Pennsylvania', 'Rhode Island', 'South Carolina', 'Tennessee', 'Texas', 'Washington', 'West Virginia']\n"
     ]
    },
    {
     "ename": "ValueError",
     "evalue": "With n_samples=1, test_size=0.2 and train_size=None, the resulting train set will be empty. Adjust any of the aforementioned parameters.",
     "output_type": "error",
     "traceback": [
      "\u001b[0;31m---------------------------------------------------------------------------\u001b[0m",
      "\u001b[0;31mValueError\u001b[0m                                Traceback (most recent call last)",
      "Cell \u001b[0;32mIn[15], line 7\u001b[0m\n\u001b[1;32m      5\u001b[0m x \u001b[38;5;241m=\u001b[39m df_arr[\u001b[38;5;241m0\u001b[39m]\n\u001b[1;32m      6\u001b[0m y \u001b[38;5;241m=\u001b[39m df_arr[\u001b[38;5;241m1\u001b[39m]\n\u001b[0;32m----> 7\u001b[0m X_train, X_test, y_train, y_test \u001b[38;5;241m=\u001b[39m \u001b[43mtrain_test_split\u001b[49m\u001b[43m(\u001b[49m\u001b[43mx\u001b[49m\u001b[43m,\u001b[49m\u001b[43m \u001b[49m\u001b[43my\u001b[49m\u001b[43m,\u001b[49m\u001b[43m \u001b[49m\u001b[43mtest_size\u001b[49m\u001b[38;5;241;43m=\u001b[39;49m\u001b[38;5;241;43m0.2\u001b[39;49m\u001b[43m,\u001b[49m\u001b[43m \u001b[49m\u001b[43mrandom_state\u001b[49m\u001b[38;5;241;43m=\u001b[39;49m\u001b[38;5;241;43m101\u001b[39;49m\u001b[43m)\u001b[49m\n\u001b[1;32m      9\u001b[0m model \u001b[38;5;241m=\u001b[39m LinearRegression()\n\u001b[1;32m     10\u001b[0m model\u001b[38;5;241m.\u001b[39mfit(X_train,y_train)\n",
      "File \u001b[0;32m~/Desktop/484/Money-Mavericks/venv/lib/python3.9/site-packages/sklearn/model_selection/_split.py:2562\u001b[0m, in \u001b[0;36mtrain_test_split\u001b[0;34m(test_size, train_size, random_state, shuffle, stratify, *arrays)\u001b[0m\n\u001b[1;32m   2559\u001b[0m arrays \u001b[38;5;241m=\u001b[39m indexable(\u001b[38;5;241m*\u001b[39marrays)\n\u001b[1;32m   2561\u001b[0m n_samples \u001b[38;5;241m=\u001b[39m _num_samples(arrays[\u001b[38;5;241m0\u001b[39m])\n\u001b[0;32m-> 2562\u001b[0m n_train, n_test \u001b[38;5;241m=\u001b[39m \u001b[43m_validate_shuffle_split\u001b[49m\u001b[43m(\u001b[49m\n\u001b[1;32m   2563\u001b[0m \u001b[43m    \u001b[49m\u001b[43mn_samples\u001b[49m\u001b[43m,\u001b[49m\u001b[43m \u001b[49m\u001b[43mtest_size\u001b[49m\u001b[43m,\u001b[49m\u001b[43m \u001b[49m\u001b[43mtrain_size\u001b[49m\u001b[43m,\u001b[49m\u001b[43m \u001b[49m\u001b[43mdefault_test_size\u001b[49m\u001b[38;5;241;43m=\u001b[39;49m\u001b[38;5;241;43m0.25\u001b[39;49m\n\u001b[1;32m   2564\u001b[0m \u001b[43m\u001b[49m\u001b[43m)\u001b[49m\n\u001b[1;32m   2566\u001b[0m \u001b[38;5;28;01mif\u001b[39;00m shuffle \u001b[38;5;129;01mis\u001b[39;00m \u001b[38;5;28;01mFalse\u001b[39;00m:\n\u001b[1;32m   2567\u001b[0m     \u001b[38;5;28;01mif\u001b[39;00m stratify \u001b[38;5;129;01mis\u001b[39;00m \u001b[38;5;129;01mnot\u001b[39;00m \u001b[38;5;28;01mNone\u001b[39;00m:\n",
      "File \u001b[0;32m~/Desktop/484/Money-Mavericks/venv/lib/python3.9/site-packages/sklearn/model_selection/_split.py:2236\u001b[0m, in \u001b[0;36m_validate_shuffle_split\u001b[0;34m(n_samples, test_size, train_size, default_test_size)\u001b[0m\n\u001b[1;32m   2233\u001b[0m n_train, n_test \u001b[38;5;241m=\u001b[39m \u001b[38;5;28mint\u001b[39m(n_train), \u001b[38;5;28mint\u001b[39m(n_test)\n\u001b[1;32m   2235\u001b[0m \u001b[38;5;28;01mif\u001b[39;00m n_train \u001b[38;5;241m==\u001b[39m \u001b[38;5;241m0\u001b[39m:\n\u001b[0;32m-> 2236\u001b[0m     \u001b[38;5;28;01mraise\u001b[39;00m \u001b[38;5;167;01mValueError\u001b[39;00m(\n\u001b[1;32m   2237\u001b[0m         \u001b[38;5;124m\"\u001b[39m\u001b[38;5;124mWith n_samples=\u001b[39m\u001b[38;5;132;01m{}\u001b[39;00m\u001b[38;5;124m, test_size=\u001b[39m\u001b[38;5;132;01m{}\u001b[39;00m\u001b[38;5;124m and train_size=\u001b[39m\u001b[38;5;132;01m{}\u001b[39;00m\u001b[38;5;124m, the \u001b[39m\u001b[38;5;124m\"\u001b[39m\n\u001b[1;32m   2238\u001b[0m         \u001b[38;5;124m\"\u001b[39m\u001b[38;5;124mresulting train set will be empty. Adjust any of the \u001b[39m\u001b[38;5;124m\"\u001b[39m\n\u001b[1;32m   2239\u001b[0m         \u001b[38;5;124m\"\u001b[39m\u001b[38;5;124maforementioned parameters.\u001b[39m\u001b[38;5;124m\"\u001b[39m\u001b[38;5;241m.\u001b[39mformat(n_samples, test_size, train_size)\n\u001b[1;32m   2240\u001b[0m     )\n\u001b[1;32m   2242\u001b[0m \u001b[38;5;28;01mreturn\u001b[39;00m n_train, n_test\n",
      "\u001b[0;31mValueError\u001b[0m: With n_samples=1, test_size=0.2 and train_size=None, the resulting train set will be empty. Adjust any of the aforementioned parameters."
     ]
    },
    {
     "data": {
      "image/png": "[encoded data removed]",
      "text/plain": [
       "<Figure size 640x480 with 1 Axes>"
      ]
     },
     "metadata": {},
     "output_type": "display_data"
    }
   ],
   "source": [
    "count = 1\n",
    "for df_arr in df_by_cluster:\n",
    "    print(f\"CLUSTER {count} --------------------------------------------\")\n",
    "    print(f\"contains: {clusters[count - 1]}\")\n",
    "    x = df_arr[0]\n",
    "    y = df_arr[1]\n",
    "    X_train, X_test, y_train, y_test = train_test_split(x, y, test_size=0.2, random_state=101)\n",
    "    \n",
    "    model = LinearRegression()\n",
    "    model.fit(X_train,y_train)\n",
    "    \n",
    "    predictions = model.predict(X_test)\n",
    "\n",
    "    sns.regplot(x=y_test,y=predictions)\n",
    "    \n",
    "    X_train_Sm= sm.add_constant(X_train)\n",
    "    X_train_Sm= sm.add_constant(X_train)\n",
    "    ls=sm.OLS(y_train,X_train_Sm).fit()\n",
    "    print(ls.summary())\n",
    "    \n",
    "    cluster_models.append(model)\n",
    "    cluster_parameters.append([X_train, X_test, y_train, y_test])\n",
    "    cluster_predictions.append(predictions)\n",
    "    cluster_ls.append(ls)"
   ]
  },
  {
   "cell_type": "code",
   "execution_count": null,
   "id": "8bda2d44-84f8-4cd1-b9ec-b154358be6c9",
   "metadata": {
    "tags": []
   },
   "outputs": [],
   "source": []
  },
  {
   "cell_type": "code",
   "execution_count": null,
   "id": "95af77ed-09a4-43a8-8afd-f5be191ee679",
   "metadata": {
    "tags": []
   },
   "outputs": [],
   "source": []
  },
  {
   "cell_type": "code",
   "execution_count": null,
   "id": "6bc7a7bb-636a-4246-bed0-ad1b8367bb9b",
   "metadata": {
    "tags": []
   },
   "outputs": [],
   "source": []
  },
  {
   "cell_type": "code",
   "execution_count": null,
   "id": "746e76d4-57d3-46af-bd44-e59fdde3daff",
   "metadata": {
    "tags": []
   },
   "outputs": [],
   "source": []
  },
  {
   "cell_type": "code",
   "execution_count": null,
   "id": "390ad0cd-2977-44c7-a398-247b24e3800c",
   "metadata": {
    "tags": []
   },
   "outputs": [],
   "source": []
  },
  {
   "cell_type": "code",
   "execution_count": null,
   "id": "4958b39b-db16-4cb2-870d-c51ca51b68a3",
   "metadata": {
    "tags": []
   },
   "outputs": [],
   "source": []
  },
  {
   "cell_type": "code",
   "execution_count": null,
   "id": "e1d5da62-bea1-4dae-82e5-8b49254c48b4",
   "metadata": {
    "tags": []
   },
   "outputs": [],
   "source": []
  },
  {
   "cell_type": "code",
   "execution_count": null,
   "id": "721f9fa6-0e9c-4d4d-b626-ab2c80605270",
   "metadata": {
    "tags": []
   },
   "outputs": [],
   "source": []
  },
  {
   "cell_type": "code",
   "execution_count": null,
   "id": "ab37526c-998b-48d4-9399-daf2ea4c5d1c",
   "metadata": {
    "tags": []
   },
   "outputs": [],
   "source": []
  },
  {
   "cell_type": "code",
   "execution_count": null,
   "id": "e209e63b-5c7b-4264-a3ff-261df58bbf5c",
   "metadata": {
    "tags": []
   },
   "outputs": [],
   "source": []
  }
 ],
 "metadata": {
  "kernelspec": {
   "display_name": "Python 3 (ipykernel)",
   "language": "python",
   "name": "python3"
  },
  "language_info": {
   "codemirror_mode": {
    "name": "ipython",
    "version": 3
   },
   "file_extension": ".py",
   "mimetype": "text/x-python",
   "name": "python",
   "nbconvert_exporter": "python",
   "pygments_lexer": "ipython3",
   "version": "3.9.6"
  }
 },
 "nbformat": 4,
 "nbformat_minor": 5
}
