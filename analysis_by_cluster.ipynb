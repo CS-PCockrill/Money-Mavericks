{
 "cells": [
  {
   "cell_type": "code",
   "execution_count": 1,
   "id": "79a67a13-ff7f-4c66-99c1-91d4b0445f35",
   "metadata": {
    "tags": []
   },
   "outputs": [],
   "source": [
    "import matplotlib.pyplot as plt\n",
    "import pandas as pd\n",
    "from sklearn.model_selection import train_test_split\n",
    "from sklearn.preprocessing import OneHotEncoder\n",
    "from sklearn.linear_model import LinearRegression\n",
    "import seaborn as sns\n",
    "import statsmodels.api as sm\n",
    "import json"
   ]
  },
  {
   "cell_type": "code",
   "execution_count": 2,
   "id": "a716a33a-7357-44a1-9554-5ba0ac643e6c",
   "metadata": {},
   "outputs": [
    {
     "data": {
      "text/plain": [
       "'At this point, job_growth data is insubstantial and not stretching over our corpus of data.  All areas that will need to be modified\\nwhen this changes are indicated with a #TODO_JG comment.'"
      ]
     },
     "execution_count": 2,
     "metadata": {},
     "output_type": "execute_result"
    }
   ],
   "source": [
    "'''At this point, job_growth data is insubstantial and not stretching over our corpus of data.  All areas that will need to be modified\n",
    "when this changes are indicated with a #TODO_JG comment.'''"
   ]
  },
  {
   "cell_type": "code",
   "execution_count": 3,
   "id": "d09ecd0c-0d87-476d-9662-ee0cc753d208",
   "metadata": {
    "tags": []
   },
   "outputs": [
    {
     "name": "stdout",
     "output_type": "stream",
     "text": [
      "        State  Education Budget  Unemployment Rate  Population Estimate  \\\n",
      "0     Alabama      5.577678e+08                4.6              4447207   \n",
      "1      Alaska      1.778816e+08                6.6               626933   \n",
      "2     Arizona      6.679765e+08                3.9              5130247   \n",
      "3    Arkansas      3.284035e+08                4.4              2673293   \n",
      "4  California      3.792097e+09                4.9             33871653   \n",
      "\n",
      "   SNAPS household_participants  SNAPS individual_participants    SNAPS cost  \\\n",
      "0                   156104.5833                   3.960572e+05  3.437353e+08   \n",
      "1                    13208.3333                   3.752433e+04  4.583456e+07   \n",
      "2                    95567.5000                   2.590026e+05  2.402456e+08   \n",
      "3                    98764.3333                   2.465715e+05  2.062364e+08   \n",
      "4                   672007.0000                   1.830677e+06  1.639333e+09   \n",
      "\n",
      "   SNAPS cost_per_person  SNAPS cost_per_household  Year  \n",
      "0                72.3244                  183.4962  2000  \n",
      "1               101.7885                  289.1770  2000  \n",
      "2                77.2983                  209.4903  2000  \n",
      "3                69.7013                  174.0139  2000  \n",
      "4                74.6233                  203.2882  2000  \n"
     ]
    }
   ],
   "source": [
    "#data_source = '../Money-Mavericks/data/data.csv'\n",
    "data_source = './data/data.csv'\n",
    "df = pd.read_csv(data_source)\n",
    "print(df.head())"
   ]
  },
  {
   "cell_type": "code",
   "execution_count": 4,
   "id": "7194aab2-cdb0-4c1b-a6ec-d860fc5149ac",
   "metadata": {
    "tags": []
   },
   "outputs": [
    {
     "data": {
      "text/plain": [
       "'Here, we read in a given cluster. For the sake of this, the code was pre-emptively written to expect a 2D array\\nEach nested array will be considered a cluster, and will contain the names of all the states contained within the cluster.\\nShould this change, our code will be editted to reflect this.  All areas where the cluster data are used will be marked with a #TODO_CLUSTER\\ncomment for easy lookup.'"
      ]
     },
     "execution_count": 4,
     "metadata": {},
     "output_type": "execute_result"
    }
   ],
   "source": [
    "'''Here, we read in a given cluster. For the sake of this, the code was pre-emptively written to expect a 2D array\n",
    "Each nested array will be considered a cluster, and will contain the names of all the states contained within the cluster.\n",
    "Should this change, our code will be editted to reflect this.  All areas where the cluster data are used will be marked with a #TODO_CLUSTER\n",
    "comment for easy lookup.'''"
   ]
  },
  {
   "cell_type": "code",
   "execution_count": 18,
   "id": "e729416a-ca75-478f-81a3-7a464d540b53",
   "metadata": {
    "tags": []
   },
   "outputs": [
    {
     "name": "stdout",
     "output_type": "stream",
     "text": [
      "[['Alabama', 'Alaska', 'Arizona', 'Arkansas', 'California', 'Florida', 'Georgia', 'Illinois', 'Kentucky', 'Louisiana', 'Maine', 'Michigan', 'Mississippi', 'Nevada', 'New Mexico', 'New York', 'North Carolina', 'Ohio', 'Oklahoma', 'Oregon', 'Pennsylvania', 'Rhode Island', 'South Carolina', 'Tennessee', 'Texas', 'Washington', 'West Virginia'], ['Colorado', 'Connecticut', 'Delaware', 'Hawaii', 'Idaho', 'Indiana', 'Iowa', 'Kansas', 'Maryland', 'Massachusetts', 'Minnesota', 'Missouri', 'Montana', 'Nebraska', 'New Hampshire', 'New Jersey', 'North Dakota', 'South Dakota', 'Utah', 'Vermont', 'Virginia', 'Wisconsin', 'Wyoming']]\n"
     ]
    }
   ],
   "source": [
    "#TODO_CLUSTER\n",
    "cluster_source = './data/clustered_states.json'\n",
    "with open(cluster_source, 'r') as fp:\n",
    "    data = json.load(fp)\n",
    "\n",
    "clusters = []\n",
    "\n",
    "for key, value in data.items():\n",
    "    if(len(value) > 1):\n",
    "        clusters.append(value)\n",
    "\n",
    "print(clusters)"
   ]
  },
  {
   "cell_type": "code",
   "execution_count": 19,
   "id": "4f1f8fd2-6f98-435d-b3cd-612b71efe572",
   "metadata": {},
   "outputs": [],
   "source": [
    "#Now for each cluster we create a separate x and y"
   ]
  },
  {
   "cell_type": "code",
   "execution_count": 20,
   "id": "2bb18b24-1e36-45e4-8875-8b36d5ec69d2",
   "metadata": {
    "tags": []
   },
   "outputs": [],
   "source": [
    "df_by_cluster = []\n",
    "for cluster in clusters:\n",
    "    c_df = df.loc[df['State'].isin(cluster), :].copy()\n",
    "    c_df = c_df.sample(frac=1).reset_index().drop(columns='index')\n",
    "    x = c_df[[\"State\", \"Education Budget\", \"Unemployment Rate\", \"Population Estimate\", \"Year\"]] #TODO_JG\n",
    "    x = pd.get_dummies(data=x, drop_first=True)\n",
    "    y = c_df[\"SNAPS cost\"]\n",
    "    df_by_cluster.append([x,y])"
   ]
  },
  {
   "cell_type": "code",
   "execution_count": 21,
   "id": "7ffcfd76-a573-403e-b3b9-9c1b5ea134fa",
   "metadata": {
    "tags": []
   },
   "outputs": [],
   "source": [
    "#Now that that's created, we're going to loop over each cluster and individually create a linear regression model for them.  "
   ]
  },
  {
   "cell_type": "code",
   "execution_count": 22,
   "id": "c3defc2e-7939-43db-9692-63bdf4b351ef",
   "metadata": {
    "tags": []
   },
   "outputs": [
    {
     "name": "stdout",
     "output_type": "stream",
     "text": [
      "[     Education Budget  Unemployment Rate  Population Estimate  Year  \\\n",
      "0        7.351672e+08                6.1              1316102  2010   \n",
      "1        6.897284e+08                3.2              1717715  2017   \n",
      "2        3.383145e+09                8.9              4972195  2010   \n",
      "3        3.284343e+08                3.3              1251154  2004   \n",
      "4        2.461655e+09                3.0              5807406  2018   \n",
      "..                ...                ...                  ...   ...   \n",
      "478      2.276850e+09                4.1              2999212  2008   \n",
      "479      4.944997e+08                5.7               932487  2014   \n",
      "480      2.200548e+09                4.9              4803868  2008   \n",
      "481      2.724959e+09                3.3              5539215  2016   \n",
      "482      3.055907e+08                2.6              2926538  2000   \n",
      "\n",
      "     State_Connecticut  State_Delaware  State_Hawaii  State_Idaho  \\\n",
      "0                    0               0             0            0   \n",
      "1                    0               0             0            1   \n",
      "2                    0               0             0            0   \n",
      "3                    0               0             1            0   \n",
      "4                    0               0             0            0   \n",
      "..                 ...             ...           ...          ...   \n",
      "478                  0               0             0            0   \n",
      "479                  0               1             0            0   \n",
      "480                  0               0             0            0   \n",
      "481                  0               0             0            0   \n",
      "482                  0               0             0            0   \n",
      "\n",
      "     State_Indiana  State_Iowa  ...  State_Nebraska  State_New Hampshire  \\\n",
      "0                0           0  ...               0                    1   \n",
      "1                0           0  ...               0                    0   \n",
      "2                0           0  ...               0                    0   \n",
      "3                0           0  ...               0                    0   \n",
      "4                0           0  ...               0                    0   \n",
      "..             ...         ...  ...             ...                  ...   \n",
      "478              0           1  ...               0                    0   \n",
      "479              0           0  ...               0                    0   \n",
      "480              0           0  ...               0                    0   \n",
      "481              0           0  ...               0                    0   \n",
      "482              0           1  ...               0                    0   \n",
      "\n",
      "     State_New Jersey  State_North Dakota  State_South Dakota  State_Utah  \\\n",
      "0                   0                   0                   0           0   \n",
      "1                   0                   0                   0           0   \n",
      "2                   0                   0                   0           0   \n",
      "3                   0                   0                   0           0   \n",
      "4                   0                   0                   0           0   \n",
      "..                ...                 ...                 ...         ...   \n",
      "478                 0                   0                   0           0   \n",
      "479                 0                   0                   0           0   \n",
      "480                 0                   0                   0           0   \n",
      "481                 0                   0                   0           0   \n",
      "482                 0                   0                   0           0   \n",
      "\n",
      "     State_Vermont  State_Virginia  State_Wisconsin  State_Wyoming  \n",
      "0                0               0                0              0  \n",
      "1                0               0                0              0  \n",
      "2                0               0                0              0  \n",
      "3                0               0                0              0  \n",
      "4                0               0                1              0  \n",
      "..             ...             ...              ...            ...  \n",
      "478              0               0                0              0  \n",
      "479              0               0                0              0  \n",
      "480              0               0                0              0  \n",
      "481              0               0                0              0  \n",
      "482              0               0                0              0  \n",
      "\n",
      "[483 rows x 26 columns], 0      151813784.0\n",
      "1      233881652.0\n",
      "2      687709379.0\n",
      "3      151809426.0\n",
      "4      816882114.0\n",
      "          ...     \n",
      "478    305655259.0\n",
      "479    220352805.0\n",
      "480    325104191.0\n",
      "481    728042703.0\n",
      "482    100182582.0\n",
      "Name: SNAPS cost, Length: 483, dtype: float64]\n"
     ]
    }
   ],
   "source": [
    "print(df_by_cluster[1])"
   ]
  },
  {
   "cell_type": "code",
   "execution_count": 23,
   "id": "6048f502-12d1-410b-8ab8-897e72c4f432",
   "metadata": {
    "tags": []
   },
   "outputs": [],
   "source": [
    "#setting up globals\n",
    "cluster_models = []\n",
    "cluster_parameters = [] #expecting [x_train, x_test, y_train, y_test]\n",
    "cluster_predictions = []\n",
    "cluster_ls = []"
   ]
  },
  {
   "cell_type": "code",
   "execution_count": 24,
   "id": "6b632b6e-92dc-44e9-8f88-f3adcbc759f3",
   "metadata": {
    "tags": []
   },
   "outputs": [
    {
     "data": {
      "text/plain": [
       "\"Now it's just linear regression, straight up and down.\""
      ]
     },
     "execution_count": 24,
     "metadata": {},
     "output_type": "execute_result"
    }
   ],
   "source": [
    "'''Now it's just linear regression, straight up and down.'''"
   ]
  },
  {
   "cell_type": "code",
   "execution_count": 26,
   "id": "70e5e142-fe1a-4bbd-8068-eba8bbffc61d",
   "metadata": {
    "tags": []
   },
   "outputs": [
    {
     "name": "stdout",
     "output_type": "stream",
     "text": [
      "CLUSTER 1 --------------------------------------------\n",
      "Contains: \n",
      "['Alabama', 'Alaska', 'Arizona', 'Arkansas', 'California', 'Florida', 'Georgia', 'Illinois', 'Kentucky', 'Louisiana', 'Maine', 'Michigan', 'Mississippi', 'Nevada', 'New Mexico', 'New York', 'North Carolina', 'Ohio', 'Oklahoma', 'Oregon', 'Pennsylvania', 'Rhode Island', 'South Carolina', 'Tennessee', 'Texas', 'Washington', 'West Virginia']\n",
      "                            OLS Regression Results                            \n",
      "==============================================================================\n",
      "Dep. Variable:             SNAPS cost   R-squared:                       0.930\n",
      "Model:                            OLS   Adj. R-squared:                  0.925\n",
      "Method:                 Least Squares   F-statistic:                     186.7\n",
      "Date:                Thu, 27 Apr 2023   Prob (F-statistic):          5.71e-223\n",
      "Time:                        12:31:37   Log-Likelihood:                -9618.1\n",
      "No. Observations:                 453   AIC:                         1.930e+04\n",
      "Df Residuals:                     422   BIC:                         1.943e+04\n",
      "Df Model:                          30                                         \n",
      "Covariance Type:            nonrobust                                         \n",
      "========================================================================================\n",
      "                           coef    std err          t      P>|t|      [0.025      0.975]\n",
      "----------------------------------------------------------------------------------------\n",
      "const                 -5.48e+10   9.21e+09     -5.948      0.000   -7.29e+10   -3.67e+10\n",
      "Education Budget         0.2738      0.020     13.842      0.000       0.235       0.313\n",
      "Unemployment Rate     9.012e+07   1.09e+07      8.238      0.000    6.86e+07    1.12e+08\n",
      "Population Estimate    410.1125     36.362     11.278      0.000     338.639     481.587\n",
      "Year                  2.622e+07   4.61e+06      5.685      0.000    1.72e+07    3.53e+07\n",
      "State_Alaska          1.241e+09   1.93e+08      6.430      0.000    8.62e+08    1.62e+09\n",
      "State_Arizona        -1.463e+09   1.55e+08     -9.427      0.000   -1.77e+09   -1.16e+09\n",
      "State_Arkansas        6.053e+08   1.62e+08      3.743      0.000    2.87e+08    9.23e+08\n",
      "State_California     -1.275e+10   1.09e+09    -11.678      0.000   -1.49e+10   -1.06e+10\n",
      "State_Florida         -4.74e+09   4.89e+08     -9.687      0.000    -5.7e+09   -3.78e+09\n",
      "State_Georgia        -1.598e+09   2.16e+08     -7.410      0.000   -2.02e+09   -1.17e+09\n",
      "State_Illinois       -3.059e+09   2.97e+08    -10.295      0.000   -3.64e+09   -2.47e+09\n",
      "State_Kentucky        1.248e+08   1.48e+08      0.843      0.400   -1.66e+08    4.16e+08\n",
      "State_Louisiana       3.102e+08   1.42e+08      2.190      0.029    3.18e+07    5.88e+08\n",
      "State_Maine           1.205e+09   1.85e+08      6.521      0.000    8.42e+08    1.57e+09\n",
      "State_Michigan        -1.98e+09   2.26e+08     -8.753      0.000   -2.42e+09   -1.54e+09\n",
      "State_Mississippi     5.404e+08   1.53e+08      3.531      0.000     2.4e+08    8.41e+08\n",
      "State_Nevada          5.571e+08    1.6e+08      3.480      0.001    2.42e+08    8.72e+08\n",
      "State_New Mexico      9.693e+08   1.67e+08      5.802      0.000    6.41e+08     1.3e+09\n",
      "State_New York       -5.393e+09   4.99e+08    -10.819      0.000   -6.37e+09   -4.41e+09\n",
      "State_North Carolina -1.605e+09   2.18e+08     -7.365      0.000   -2.03e+09   -1.18e+09\n",
      "State_Ohio           -2.685e+09   2.71e+08     -9.892      0.000   -3.22e+09   -2.15e+09\n",
      "State_Oklahoma        4.029e+08    1.5e+08      2.691      0.007    1.09e+08    6.97e+08\n",
      "State_Oregon          2.765e+08    1.5e+08      1.840      0.067   -1.89e+07    5.72e+08\n",
      "State_Pennsylvania   -3.393e+09   2.96e+08    -11.480      0.000   -3.97e+09   -2.81e+09\n",
      "State_Rhode Island    1.037e+09   1.94e+08      5.351      0.000    6.56e+08    1.42e+09\n",
      "State_South Carolina  3.483e+07   1.48e+08      0.235      0.814   -2.57e+08    3.26e+08\n",
      "State_Tennessee      -2.811e+08   1.57e+08     -1.788      0.075    -5.9e+08     2.8e+07\n",
      "State_Texas          -6.981e+09   6.82e+08    -10.232      0.000   -8.32e+09   -5.64e+09\n",
      "State_Washington     -7.248e+08   1.72e+08     -4.207      0.000   -1.06e+09   -3.86e+08\n",
      "State_West Virginia   9.278e+08   1.71e+08      5.417      0.000    5.91e+08    1.26e+09\n",
      "==============================================================================\n",
      "Omnibus:                       75.449   Durbin-Watson:                   2.055\n",
      "Prob(Omnibus):                  0.000   Jarque-Bera (JB):              408.658\n",
      "Skew:                           0.574   Prob(JB):                     1.82e-89\n",
      "Kurtosis:                       7.509   Cond. No.                     2.42e+12\n",
      "==============================================================================\n",
      "\n",
      "Notes:\n",
      "[1] Standard Errors assume that the covariance matrix of the errors is correctly specified.\n",
      "[2] The condition number is large, 2.42e+12. This might indicate that there are\n",
      "strong multicollinearity or other numerical problems.\n",
      "CLUSTER 1 --------------------------------------------\n",
      "Contains: \n",
      "['Alabama', 'Alaska', 'Arizona', 'Arkansas', 'California', 'Florida', 'Georgia', 'Illinois', 'Kentucky', 'Louisiana', 'Maine', 'Michigan', 'Mississippi', 'Nevada', 'New Mexico', 'New York', 'North Carolina', 'Ohio', 'Oklahoma', 'Oregon', 'Pennsylvania', 'Rhode Island', 'South Carolina', 'Tennessee', 'Texas', 'Washington', 'West Virginia']\n",
      "                            OLS Regression Results                            \n",
      "==============================================================================\n",
      "Dep. Variable:             SNAPS cost   R-squared:                       0.914\n",
      "Model:                            OLS   Adj. R-squared:                  0.908\n",
      "Method:                 Least Squares   F-statistic:                     146.8\n",
      "Date:                Thu, 27 Apr 2023   Prob (F-statistic):          6.06e-174\n",
      "Time:                        12:31:38   Log-Likelihood:                -7712.2\n",
      "No. Observations:                 386   AIC:                         1.548e+04\n",
      "Df Residuals:                     359   BIC:                         1.559e+04\n",
      "Df Model:                          26                                         \n",
      "Covariance Type:            nonrobust                                         \n",
      "=======================================================================================\n",
      "                          coef    std err          t      P>|t|      [0.025      0.975]\n",
      "---------------------------------------------------------------------------------------\n",
      "const               -2.006e+10   3.24e+09     -6.190      0.000   -2.64e+10   -1.37e+10\n",
      "Education Budget        0.1445      0.014     10.692      0.000       0.118       0.171\n",
      "Unemployment Rate    5.297e+07    4.3e+06     12.326      0.000    4.45e+07    6.14e+07\n",
      "Population Estimate   370.5849     55.864      6.634      0.000     260.723     480.447\n",
      "Year                 9.006e+06   1.69e+06      5.337      0.000    5.69e+06    1.23e+07\n",
      "State_Connecticut    6.306e+08   9.18e+07      6.865      0.000     4.5e+08    8.11e+08\n",
      "State_Delaware       1.457e+09   2.28e+08      6.378      0.000    1.01e+09    1.91e+09\n",
      "State_Hawaii          1.52e+09   2.03e+08      7.474      0.000    1.12e+09    1.92e+09\n",
      "State_Idaho          1.232e+09   1.94e+08      6.360      0.000    8.51e+08    1.61e+09\n",
      "State_Indiana       -2.476e+08   8.26e+07     -2.997      0.003    -4.1e+08   -8.51e+07\n",
      "State_Iowa           6.756e+08   1.22e+08      5.549      0.000    4.36e+08    9.15e+08\n",
      "State_Kansas         7.769e+08   1.27e+08      6.095      0.000    5.26e+08    1.03e+09\n",
      "State_Maryland      -7.196e+06   5.68e+07     -0.127      0.899   -1.19e+08    1.04e+08\n",
      "State_Massachusetts -4.066e+08   8.91e+07     -4.563      0.000   -5.82e+08   -2.31e+08\n",
      "State_Minnesota      -2.39e+08   4.33e+07     -5.516      0.000   -3.24e+08   -1.54e+08\n",
      "State_Missouri       1.248e+08   5.97e+07      2.090      0.037    7.36e+06    2.42e+08\n",
      "State_Montana        1.403e+09   2.23e+08      6.288      0.000    9.64e+08    1.84e+09\n",
      "State_Nebraska       1.068e+09    1.8e+08      5.940      0.000    7.14e+08    1.42e+09\n",
      "State_New Hampshire   1.24e+09   2.07e+08      5.998      0.000    8.33e+08    1.65e+09\n",
      "State_New Jersey    -1.192e+09   2.06e+08     -5.783      0.000    -1.6e+09   -7.87e+08\n",
      "State_North Dakota   1.552e+09   2.39e+08      6.494      0.000    1.08e+09    2.02e+09\n",
      "State_South Dakota   1.517e+09   2.32e+08      6.525      0.000    1.06e+09    1.97e+09\n",
      "State_Utah           7.773e+08   1.33e+08      5.847      0.000    5.16e+08    1.04e+09\n",
      "State_Vermont        1.544e+09   2.42e+08      6.377      0.000    1.07e+09    2.02e+09\n",
      "State_Virginia      -7.874e+08   1.56e+08     -5.042      0.000   -1.09e+09    -4.8e+08\n",
      "State_Wisconsin     -3.505e+07   5.15e+07     -0.680      0.497   -1.36e+08    6.63e+07\n",
      "State_Wyoming        1.526e+09   2.46e+08      6.215      0.000    1.04e+09    2.01e+09\n",
      "==============================================================================\n",
      "Omnibus:                        2.365   Durbin-Watson:                   1.988\n",
      "Prob(Omnibus):                  0.307   Jarque-Bera (JB):                2.110\n",
      "Skew:                           0.142   Prob(JB):                        0.348\n",
      "Kurtosis:                       3.226   Cond. No.                     1.09e+12\n",
      "==============================================================================\n",
      "\n",
      "Notes:\n",
      "[1] Standard Errors assume that the covariance matrix of the errors is correctly specified.\n",
      "[2] The condition number is large, 1.09e+12. This might indicate that there are\n",
      "strong multicollinearity or other numerical problems.\n"
     ]
    },
    {
     "data": {
      "image/png": "[encoded data removed]",
      "text/plain": [
       "<Figure size 640x480 with 1 Axes>"
      ]
     },
     "metadata": {},
     "output_type": "display_data"
    }
   ],
   "source": [
    "count = 1\n",
    "for df_arr in df_by_cluster:\n",
    "    print(f\"CLUSTER {count} --------------------------------------------\")\n",
    "    print(f\"Contains: \\n{clusters[count - 1]}\")\n",
    "    x = df_arr[0]\n",
    "    y = df_arr[1]\n",
    "    X_train, X_test, y_train, y_test = train_test_split(x, y, test_size=0.2, random_state=101)\n",
    "    \n",
    "    model = LinearRegression()\n",
    "    model.fit(X_train,y_train)\n",
    "    \n",
    "    predictions = model.predict(X_test)\n",
    "\n",
    "    sns.regplot(x=y_test,y=predictions)\n",
    "    \n",
    "    X_train_Sm= sm.add_constant(X_train)\n",
    "    X_train_Sm= sm.add_constant(X_train)\n",
    "    ls=sm.OLS(y_train,X_train_Sm).fit()\n",
    "    print(ls.summary())\n",
    "    \n",
    "    cluster_models.append(model)\n",
    "    cluster_parameters.append([X_train, X_test, y_train, y_test])\n",
    "    cluster_predictions.append(predictions)\n",
    "    cluster_ls.append(ls)"
   ]
  },
  {
   "cell_type": "code",
   "execution_count": null,
   "id": "8bda2d44-84f8-4cd1-b9ec-b154358be6c9",
   "metadata": {
    "tags": []
   },
   "outputs": [],
   "source": []
  },
  {
   "cell_type": "code",
   "execution_count": null,
   "id": "95af77ed-09a4-43a8-8afd-f5be191ee679",
   "metadata": {
    "tags": []
   },
   "outputs": [],
   "source": []
  },
  {
   "cell_type": "code",
   "execution_count": null,
   "id": "6bc7a7bb-636a-4246-bed0-ad1b8367bb9b",
   "metadata": {
    "tags": []
   },
   "outputs": [],
   "source": []
  },
  {
   "cell_type": "code",
   "execution_count": null,
   "id": "746e76d4-57d3-46af-bd44-e59fdde3daff",
   "metadata": {
    "tags": []
   },
   "outputs": [],
   "source": []
  },
  {
   "cell_type": "code",
   "execution_count": null,
   "id": "390ad0cd-2977-44c7-a398-247b24e3800c",
   "metadata": {
    "tags": []
   },
   "outputs": [],
   "source": []
  },
  {
   "cell_type": "code",
   "execution_count": null,
   "id": "4958b39b-db16-4cb2-870d-c51ca51b68a3",
   "metadata": {
    "tags": []
   },
   "outputs": [],
   "source": []
  },
  {
   "cell_type": "code",
   "execution_count": null,
   "id": "e1d5da62-bea1-4dae-82e5-8b49254c48b4",
   "metadata": {
    "tags": []
   },
   "outputs": [],
   "source": []
  },
  {
   "cell_type": "code",
   "execution_count": null,
   "id": "721f9fa6-0e9c-4d4d-b626-ab2c80605270",
   "metadata": {
    "tags": []
   },
   "outputs": [],
   "source": []
  },
  {
   "cell_type": "code",
   "execution_count": null,
   "id": "ab37526c-998b-48d4-9399-daf2ea4c5d1c",
   "metadata": {
    "tags": []
   },
   "outputs": [],
   "source": []
  },
  {
   "cell_type": "code",
   "execution_count": null,
   "id": "e209e63b-5c7b-4264-a3ff-261df58bbf5c",
   "metadata": {
    "tags": []
   },
   "outputs": [],
   "source": []
  }
 ],
 "metadata": {
  "kernelspec": {
   "display_name": "Python 3 (ipykernel)",
   "language": "python",
   "name": "python3"
  },
  "language_info": {
   "codemirror_mode": {
    "name": "ipython",
    "version": 3
   },
   "file_extension": ".py",
   "mimetype": "text/x-python",
   "name": "python",
   "nbconvert_exporter": "python",
   "pygments_lexer": "ipython3",
   "version": "3.9.7"
  }
 },
 "nbformat": 4,
 "nbformat_minor": 5
}
