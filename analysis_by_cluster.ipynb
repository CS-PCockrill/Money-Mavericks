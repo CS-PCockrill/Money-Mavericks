{
 "cells": [
  {
   "cell_type": "code",
   "execution_count": 2,
   "id": "79a67a13-ff7f-4c66-99c1-91d4b0445f35",
   "metadata": {
    "tags": []
   },
   "outputs": [],
   "source": [
    "import matplotlib.pyplot as plt\n",
    "import pandas as pd\n",
    "from sklearn.model_selection import train_test_split\n",
    "from sklearn.preprocessing import OneHotEncoder\n",
    "from sklearn.linear_model import LinearRegression\n",
    "import seaborn as sns\n",
    "import statsmodels.api as sm"
   ]
  },
  {
   "cell_type": "code",
   "execution_count": null,
   "id": "a716a33a-7357-44a1-9554-5ba0ac643e6c",
   "metadata": {},
   "outputs": [],
   "source": [
    "'''At this point, job_growth data is insubstantial and not stretching over our corpus of data.  All areas that will need to be modified\n",
    "when this changes are indicated with a #TODO_JG comment.'''"
   ]
  },
  {
   "cell_type": "code",
   "execution_count": 4,
   "id": "d09ecd0c-0d87-476d-9662-ee0cc753d208",
   "metadata": {
    "tags": []
   },
   "outputs": [
    {
     "name": "stdout",
     "output_type": "stream",
     "text": [
      "        State  Education Budget  Unemployment Rate  Population Estimate  \\\n",
      "0     Alabama      2.729781e+09                6.1              4852347   \n",
      "1      Alaska      4.152387e+08                6.5               737498   \n",
      "2     Arizona      6.241051e+09                6.1              6829676   \n",
      "3    Arkansas      1.334963e+09                5.2              2978048   \n",
      "4  California      1.672784e+10                6.2             38918045   \n",
      "\n",
      "   SNAPS household_participants  SNAPS individual_participants  SNAPS cost  \\\n",
      "0                  4.179434e+05                   8.893801e+05  1341906577   \n",
      "1                  3.418733e+04                   8.112125e+04   168054411   \n",
      "2                  4.393297e+05                   9.994010e+05  1459584642   \n",
      "3                  2.140558e+05                   4.689040e+05   648769562   \n",
      "4                  2.096960e+06                   4.417772e+06  7528039778   \n",
      "\n",
      "   SNAPS cost_per_person  SNAPS cost_per_household  Year  \n",
      "0             267.561450                125.734258  2015  \n",
      "1             409.641025                172.637058  2015  \n",
      "2             276.858275                121.704958  2015  \n",
      "3             252.570325                115.298933  2015  \n",
      "4             299.164858                142.002950  2015  \n"
     ]
    }
   ],
   "source": [
    "#data_source = '../Money-Mavericks/data/data.csv'\n",
    "data_source = './data/data.csv'\n",
    "df = pd.read_csv(data_source)\n",
    "print(df.head())"
   ]
  },
  {
   "cell_type": "code",
   "execution_count": 5,
   "id": "7194aab2-cdb0-4c1b-a6ec-d860fc5149ac",
   "metadata": {
    "tags": []
   },
   "outputs": [
    {
     "data": {
      "text/plain": [
       "'Here, we read in a given cluster. For the sake of this, the code was pre-emptively written to expect a 2D array\\nEach nested array will be considered a cluster, and will contain the names of all the states contained within the cluster.\\nShould this change, our code will be editted to reflect this.  All areas where the cluster data are used will be marked with a #TODO_CLUSTER\\ncomment for easy lookup.'"
      ]
     },
     "execution_count": 5,
     "metadata": {},
     "output_type": "execute_result"
    }
   ],
   "source": [
    "'''Here, we read in a given cluster. For the sake of this, the code was pre-emptively written to expect a 2D array\n",
    "Each nested array will be considered a cluster, and will contain the names of all the states contained within the cluster.\n",
    "Should this change, our code will be editted to reflect this.  All areas where the cluster data are used will be marked with a #TODO_CLUSTER\n",
    "comment for easy lookup.'''"
   ]
  },
  {
   "cell_type": "code",
   "execution_count": 7,
   "id": "e729416a-ca75-478f-81a3-7a464d540b53",
   "metadata": {
    "tags": []
   },
   "outputs": [],
   "source": [
    "#TODO_CLUSTER\n",
    "clusters = [[]]"
   ]
  },
  {
   "cell_type": "code",
   "execution_count": null,
   "id": "4f1f8fd2-6f98-435d-b3cd-612b71efe572",
   "metadata": {},
   "outputs": [],
   "source": [
    "#Now for each cluster we create a separate x and y"
   ]
  },
  {
   "cell_type": "code",
   "execution_count": 8,
   "id": "2bb18b24-1e36-45e4-8875-8b36d5ec69d2",
   "metadata": {
    "tags": []
   },
   "outputs": [],
   "source": [
    "df_by_cluster = []\n",
    "for cluster in clusters:\n",
    "    c_df = df.loc[df['State'].isin(cluster), :].copy()\n",
    "    c_df = c_df.sample(frac=1).reset_index().drop(columns='index')\n",
    "    x = c_df[[\"State\", \"Education Budget\", \"Unemployment Rate\", \"Population Estimate\", \"Year\"]] #TODO_JG\n",
    "    x = pd.get_dummies(data=x, drop_first=True)\n",
    "    y = c_df[\"SNAPS cost\"]\n",
    "    df_by_cluster.append([x,y])"
   ]
  },
  {
   "cell_type": "code",
   "execution_count": null,
   "id": "7ffcfd76-a573-403e-b3b9-9c1b5ea134fa",
   "metadata": {
    "tags": []
   },
   "outputs": [],
   "source": [
    "#Now that that's created, we're going to loop over each cluster and individually create a linear regression model for them.  "
   ]
  },
  {
   "cell_type": "code",
   "execution_count": null,
   "id": "6048f502-12d1-410b-8ab8-897e72c4f432",
   "metadata": {
    "tags": []
   },
   "outputs": [],
   "source": [
    "#setting up globals\n",
    "cluster_models = []\n",
    "cluster_parameters = [] #expecting [x_train, x_test, y_train, y_test]\n",
    "cluster_predictions = []\n",
    "cluster_ls = []"
   ]
  },
  {
   "cell_type": "code",
   "execution_count": 12,
   "id": "6b632b6e-92dc-44e9-8f88-f3adcbc759f3",
   "metadata": {
    "tags": []
   },
   "outputs": [
    {
     "data": {
      "text/plain": [
       "\"Now it's just linear regression, straight up and down.\""
      ]
     },
     "execution_count": 12,
     "metadata": {},
     "output_type": "execute_result"
    }
   ],
   "source": [
    "'''Now it's just linear regression, straight up and down.'''"
   ]
  },
  {
   "cell_type": "code",
   "execution_count": 10,
   "id": "70e5e142-fe1a-4bbd-8068-eba8bbffc61d",
   "metadata": {
    "tags": []
   },
   "outputs": [
    {
     "name": "stdout",
     "output_type": "stream",
     "text": [
      "CLUSTER 1 --------------------------------------------\n",
      "contains: []\n"
     ]
    },
    {
     "ename": "ValueError",
     "evalue": "With n_samples=0, test_size=0.2 and train_size=None, the resulting train set will be empty. Adjust any of the aforementioned parameters.",
     "output_type": "error",
     "traceback": [
      "\u001b[0;31m---------------------------------------------------------------------------\u001b[0m",
      "\u001b[0;31mValueError\u001b[0m                                Traceback (most recent call last)",
      "Cell \u001b[0;32mIn[10], line 7\u001b[0m\n\u001b[1;32m      5\u001b[0m x \u001b[38;5;241m=\u001b[39m df_arr[\u001b[38;5;241m0\u001b[39m]\n\u001b[1;32m      6\u001b[0m y \u001b[38;5;241m=\u001b[39m df_arr[\u001b[38;5;241m1\u001b[39m]\n\u001b[0;32m----> 7\u001b[0m X_train, X_test, y_train, y_test \u001b[38;5;241m=\u001b[39m \u001b[43mtrain_test_split\u001b[49m\u001b[43m(\u001b[49m\u001b[43mx\u001b[49m\u001b[43m,\u001b[49m\u001b[43m \u001b[49m\u001b[43my\u001b[49m\u001b[43m,\u001b[49m\u001b[43m \u001b[49m\u001b[43mtest_size\u001b[49m\u001b[38;5;241;43m=\u001b[39;49m\u001b[38;5;241;43m0.2\u001b[39;49m\u001b[43m,\u001b[49m\u001b[43m \u001b[49m\u001b[43mrandom_state\u001b[49m\u001b[38;5;241;43m=\u001b[39;49m\u001b[38;5;241;43m101\u001b[39;49m\u001b[43m)\u001b[49m\n\u001b[1;32m      9\u001b[0m model \u001b[38;5;241m=\u001b[39m LinearRegression()\n\u001b[1;32m     10\u001b[0m model\u001b[38;5;241m.\u001b[39mfit(X_train,y_train)\n",
      "File \u001b[0;32m~/Desktop/484/Money-Mavericks/venv/lib/python3.9/site-packages/sklearn/model_selection/_split.py:2562\u001b[0m, in \u001b[0;36mtrain_test_split\u001b[0;34m(test_size, train_size, random_state, shuffle, stratify, *arrays)\u001b[0m\n\u001b[1;32m   2559\u001b[0m arrays \u001b[38;5;241m=\u001b[39m indexable(\u001b[38;5;241m*\u001b[39marrays)\n\u001b[1;32m   2561\u001b[0m n_samples \u001b[38;5;241m=\u001b[39m _num_samples(arrays[\u001b[38;5;241m0\u001b[39m])\n\u001b[0;32m-> 2562\u001b[0m n_train, n_test \u001b[38;5;241m=\u001b[39m \u001b[43m_validate_shuffle_split\u001b[49m\u001b[43m(\u001b[49m\n\u001b[1;32m   2563\u001b[0m \u001b[43m    \u001b[49m\u001b[43mn_samples\u001b[49m\u001b[43m,\u001b[49m\u001b[43m \u001b[49m\u001b[43mtest_size\u001b[49m\u001b[43m,\u001b[49m\u001b[43m \u001b[49m\u001b[43mtrain_size\u001b[49m\u001b[43m,\u001b[49m\u001b[43m \u001b[49m\u001b[43mdefault_test_size\u001b[49m\u001b[38;5;241;43m=\u001b[39;49m\u001b[38;5;241;43m0.25\u001b[39;49m\n\u001b[1;32m   2564\u001b[0m \u001b[43m\u001b[49m\u001b[43m)\u001b[49m\n\u001b[1;32m   2566\u001b[0m \u001b[38;5;28;01mif\u001b[39;00m shuffle \u001b[38;5;129;01mis\u001b[39;00m \u001b[38;5;28;01mFalse\u001b[39;00m:\n\u001b[1;32m   2567\u001b[0m     \u001b[38;5;28;01mif\u001b[39;00m stratify \u001b[38;5;129;01mis\u001b[39;00m \u001b[38;5;129;01mnot\u001b[39;00m \u001b[38;5;28;01mNone\u001b[39;00m:\n",
      "File \u001b[0;32m~/Desktop/484/Money-Mavericks/venv/lib/python3.9/site-packages/sklearn/model_selection/_split.py:2236\u001b[0m, in \u001b[0;36m_validate_shuffle_split\u001b[0;34m(n_samples, test_size, train_size, default_test_size)\u001b[0m\n\u001b[1;32m   2233\u001b[0m n_train, n_test \u001b[38;5;241m=\u001b[39m \u001b[38;5;28mint\u001b[39m(n_train), \u001b[38;5;28mint\u001b[39m(n_test)\n\u001b[1;32m   2235\u001b[0m \u001b[38;5;28;01mif\u001b[39;00m n_train \u001b[38;5;241m==\u001b[39m \u001b[38;5;241m0\u001b[39m:\n\u001b[0;32m-> 2236\u001b[0m     \u001b[38;5;28;01mraise\u001b[39;00m \u001b[38;5;167;01mValueError\u001b[39;00m(\n\u001b[1;32m   2237\u001b[0m         \u001b[38;5;124m\"\u001b[39m\u001b[38;5;124mWith n_samples=\u001b[39m\u001b[38;5;132;01m{}\u001b[39;00m\u001b[38;5;124m, test_size=\u001b[39m\u001b[38;5;132;01m{}\u001b[39;00m\u001b[38;5;124m and train_size=\u001b[39m\u001b[38;5;132;01m{}\u001b[39;00m\u001b[38;5;124m, the \u001b[39m\u001b[38;5;124m\"\u001b[39m\n\u001b[1;32m   2238\u001b[0m         \u001b[38;5;124m\"\u001b[39m\u001b[38;5;124mresulting train set will be empty. Adjust any of the \u001b[39m\u001b[38;5;124m\"\u001b[39m\n\u001b[1;32m   2239\u001b[0m         \u001b[38;5;124m\"\u001b[39m\u001b[38;5;124maforementioned parameters.\u001b[39m\u001b[38;5;124m\"\u001b[39m\u001b[38;5;241m.\u001b[39mformat(n_samples, test_size, train_size)\n\u001b[1;32m   2240\u001b[0m     )\n\u001b[1;32m   2242\u001b[0m \u001b[38;5;28;01mreturn\u001b[39;00m n_train, n_test\n",
      "\u001b[0;31mValueError\u001b[0m: With n_samples=0, test_size=0.2 and train_size=None, the resulting train set will be empty. Adjust any of the aforementioned parameters."
     ]
    }
   ],
   "source": [
    "count = 1\n",
    "for df_arr in df_by_cluster:\n",
    "    print(f\"CLUSTER {count} --------------------------------------------\")\n",
    "    print(f\"contains: {clusters[count - 1]}\")\n",
    "    x = df_arr[0]\n",
    "    y = df_arr[1]\n",
    "    X_train, X_test, y_train, y_test = train_test_split(x, y, test_size=0.2, random_state=101)\n",
    "    \n",
    "    model = LinearRegression()\n",
    "    model.fit(X_train,y_train)\n",
    "    \n",
    "    predictions = model.predict(X_test)\n",
    "\n",
    "    sns.regplot(x=y_test,y=predictions)\n",
    "    \n",
    "    X_train_Sm= sm.add_constant(X_train)\n",
    "    X_train_Sm= sm.add_constant(X_train)\n",
    "    ls=sm.OLS(y_train,X_train_Sm).fit()\n",
    "    print(ls.summary())\n",
    "    \n",
    "    cluster_models.append(model)\n",
    "    cluster_parameters.append([X_train, X_test, y_train, y_test])\n",
    "    cluster_predictions.append(predictions)\n",
    "    cluster_ls.append(ls)"
   ]
  },
  {
   "cell_type": "code",
   "execution_count": null,
   "id": "8bda2d44-84f8-4cd1-b9ec-b154358be6c9",
   "metadata": {
    "tags": []
   },
   "outputs": [],
   "source": []
  },
  {
   "cell_type": "code",
   "execution_count": null,
   "id": "95af77ed-09a4-43a8-8afd-f5be191ee679",
   "metadata": {
    "tags": []
   },
   "outputs": [],
   "source": []
  },
  {
   "cell_type": "code",
   "execution_count": null,
   "id": "6bc7a7bb-636a-4246-bed0-ad1b8367bb9b",
   "metadata": {
    "tags": []
   },
   "outputs": [],
   "source": []
  },
  {
   "cell_type": "code",
   "execution_count": null,
   "id": "746e76d4-57d3-46af-bd44-e59fdde3daff",
   "metadata": {
    "tags": []
   },
   "outputs": [],
   "source": []
  },
  {
   "cell_type": "code",
   "execution_count": null,
   "id": "390ad0cd-2977-44c7-a398-247b24e3800c",
   "metadata": {
    "tags": []
   },
   "outputs": [],
   "source": []
  },
  {
   "cell_type": "code",
   "execution_count": null,
   "id": "4958b39b-db16-4cb2-870d-c51ca51b68a3",
   "metadata": {
    "tags": []
   },
   "outputs": [],
   "source": []
  },
  {
   "cell_type": "code",
   "execution_count": null,
   "id": "e1d5da62-bea1-4dae-82e5-8b49254c48b4",
   "metadata": {
    "tags": []
   },
   "outputs": [],
   "source": []
  },
  {
   "cell_type": "code",
   "execution_count": null,
   "id": "721f9fa6-0e9c-4d4d-b626-ab2c80605270",
   "metadata": {
    "tags": []
   },
   "outputs": [],
   "source": []
  },
  {
   "cell_type": "code",
   "execution_count": null,
   "id": "ab37526c-998b-48d4-9399-daf2ea4c5d1c",
   "metadata": {
    "tags": []
   },
   "outputs": [],
   "source": []
  },
  {
   "cell_type": "code",
   "execution_count": null,
   "id": "e209e63b-5c7b-4264-a3ff-261df58bbf5c",
   "metadata": {
    "tags": []
   },
   "outputs": [],
   "source": []
  }
 ],
 "metadata": {
  "kernelspec": {
   "display_name": "Python 3 (ipykernel)",
   "language": "python",
   "name": "python3"
  },
  "language_info": {
   "codemirror_mode": {
    "name": "ipython",
    "version": 3
   },
   "file_extension": ".py",
   "mimetype": "text/x-python",
   "name": "python",
   "nbconvert_exporter": "python",
   "pygments_lexer": "ipython3",
   "version": "3.9.6"
  }
 },
 "nbformat": 4,
 "nbformat_minor": 5
}
