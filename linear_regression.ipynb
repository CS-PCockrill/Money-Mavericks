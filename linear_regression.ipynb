{
 "cells": [
  {
   "cell_type": "code",
   "execution_count": 2,
   "id": "79a67a13-ff7f-4c66-99c1-91d4b0445f35",
   "metadata": {
    "tags": []
   },
   "outputs": [],
   "source": [
    "import matplotlib.pyplot as plt\n",
    "import pandas as pd\n",
    "from sklearn.model_selection import train_test_split\n",
    "from sklearn.preprocessing import OneHotEncoder\n",
    "from sklearn.linear_model import LinearRegression\n",
    "import seaborn as sns\n",
    "import statsmodels.api as sm\n",
    "import numpy as np\n",
    "from collections import defaultdict"
   ]
  },
  {
   "cell_type": "code",
   "execution_count": 91,
   "id": "d09ecd0c-0d87-476d-9662-ee0cc753d208",
   "metadata": {
    "tags": []
   },
   "outputs": [
    {
     "data": {
      "text/html": [
       "<div>\n",
       "<style scoped>\n",
       "    .dataframe tbody tr th:only-of-type {\n",
       "        vertical-align: middle;\n",
       "    }\n",
       "\n",
       "    .dataframe tbody tr th {\n",
       "        vertical-align: top;\n",
       "    }\n",
       "\n",
       "    .dataframe thead th {\n",
       "        text-align: right;\n",
       "    }\n",
       "</style>\n",
       "<table border=\"1\" class=\"dataframe\">\n",
       "  <thead>\n",
       "    <tr style=\"text-align: right;\">\n",
       "      <th></th>\n",
       "      <th>DATE</th>\n",
       "      <th>Median Income</th>\n",
       "    </tr>\n",
       "  </thead>\n",
       "  <tbody>\n",
       "    <tr>\n",
       "      <th>0</th>\n",
       "      <td>2015-01-01</td>\n",
       "      <td>70315</td>\n",
       "    </tr>\n",
       "    <tr>\n",
       "      <th>1</th>\n",
       "      <td>2016-01-01</td>\n",
       "      <td>75025</td>\n",
       "    </tr>\n",
       "    <tr>\n",
       "      <th>2</th>\n",
       "      <td>2017-01-01</td>\n",
       "      <td>78265</td>\n",
       "    </tr>\n",
       "    <tr>\n",
       "      <th>3</th>\n",
       "      <td>2018-01-01</td>\n",
       "      <td>83243</td>\n",
       "    </tr>\n",
       "    <tr>\n",
       "      <th>4</th>\n",
       "      <td>2019-01-01</td>\n",
       "      <td>86172</td>\n",
       "    </tr>\n",
       "  </tbody>\n",
       "</table>\n",
       "</div>"
      ],
      "text/plain": [
       "         DATE  Median Income\n",
       "0  2015-01-01          70315\n",
       "1  2016-01-01          75025\n",
       "2  2017-01-01          78265\n",
       "3  2018-01-01          83243\n",
       "4  2019-01-01          86172"
      ]
     },
     "execution_count": 91,
     "metadata": {},
     "output_type": "execute_result"
    }
   ],
   "source": [
    "#data_source = '../Money-Mavericks/data/data.csv'\n",
    "data_source = './data/data.csv'\n",
    "df = pd.read_csv(data_source)\n",
    "\n",
    "years = ['2015', '2016', '2017', '2018', '2019']\n",
    "\n",
    "jobgrowth = pd.DataFrame()\n",
    "\n",
    "for yr in years:\n",
    "    jg = pd.read_excel(f'./data/jobgrowth/{yr}-jobgrowth.xls', skiprows=[0, 1])\n",
    "    jg['Year'] = yr\n",
    "    jg = pd.concat([jg[['Year']], jg.drop(columns=['Year'])], axis=1)\n",
    "    jobgrowth = pd.concat([jobgrowth, jg], ignore_index=True)\n",
    "\n",
    "# Code to read in GDP data from state excel files.\n",
    "# Virginia link: https://www.statista.com/statistics/188142/gdp-of-the-us-federal-state-of-virginia-since-1997/\n",
    "gdp_va = pd.read_excel(\"./data/GDP/virginia-2000-2022.xlsx\", sheet_name=\"Data\", skiprows=4, usecols=\"B, C\", names=['Year', 'GDP'])\n",
    "income_va = pd.read_csv('./data/income/va-historic.csv')\n",
    "\n",
    "# Code to read in Median Income data from FRED csv files. \n",
    "# Virginia link: https://fred.stlouisfed.org/series/MEHOINUSVAA672N\n",
    "\n",
    "income_va_range = income_va.loc[income_va['DATE'].str.contains('|'.join(years))].reset_index().drop(columns=[\"index\"])\n",
    "income_va_range.head()\n"
   ]
  },
  {
   "cell_type": "code",
   "execution_count": 92,
   "id": "7ffcfd76-a573-403e-b3b9-9c1b5ea134fa",
   "metadata": {
    "tags": []
   },
   "outputs": [
    {
     "data": {
      "text/html": [
       "<div>\n",
       "<style scoped>\n",
       "    .dataframe tbody tr th:only-of-type {\n",
       "        vertical-align: middle;\n",
       "    }\n",
       "\n",
       "    .dataframe tbody tr th {\n",
       "        vertical-align: top;\n",
       "    }\n",
       "\n",
       "    .dataframe thead th {\n",
       "        text-align: right;\n",
       "    }\n",
       "</style>\n",
       "<table border=\"1\" class=\"dataframe\">\n",
       "  <thead>\n",
       "    <tr style=\"text-align: right;\">\n",
       "      <th></th>\n",
       "      <th>State</th>\n",
       "      <th>Education Budget</th>\n",
       "      <th>Unemployment Rate</th>\n",
       "      <th>Population Estimate</th>\n",
       "      <th>SNAPS household_participants</th>\n",
       "      <th>SNAPS individual_participants</th>\n",
       "      <th>SNAPS cost</th>\n",
       "      <th>SNAPS cost_per_person</th>\n",
       "      <th>SNAPS cost_per_household</th>\n",
       "      <th>Year</th>\n",
       "      <th>U.S. Rank</th>\n",
       "      <th>% Change</th>\n",
       "      <th>Job Growth (In Thousands)</th>\n",
       "      <th># of Jobs (In Thousands)</th>\n",
       "      <th>GDP</th>\n",
       "      <th>Median Income</th>\n",
       "    </tr>\n",
       "  </thead>\n",
       "  <tbody>\n",
       "    <tr>\n",
       "      <th>0</th>\n",
       "      <td>Virginia</td>\n",
       "      <td>4.286211e+09</td>\n",
       "      <td>4.4</td>\n",
       "      <td>8361808</td>\n",
       "      <td>404347.5833</td>\n",
       "      <td>860374.7500</td>\n",
       "      <td>1230788073</td>\n",
       "      <td>253.657192</td>\n",
       "      <td>119.210467</td>\n",
       "      <td>2015</td>\n",
       "      <td>33.0</td>\n",
       "      <td>1.51</td>\n",
       "      <td>55.9</td>\n",
       "      <td>3,766.70</td>\n",
       "      <td>455.16</td>\n",
       "      <td>70315</td>\n",
       "    </tr>\n",
       "    <tr>\n",
       "      <th>1</th>\n",
       "      <td>Virginia</td>\n",
       "      <td>4.352947e+09</td>\n",
       "      <td>4.1</td>\n",
       "      <td>8410106</td>\n",
       "      <td>387632.5833</td>\n",
       "      <td>826353.5833</td>\n",
       "      <td>1169412644</td>\n",
       "      <td>251.400575</td>\n",
       "      <td>117.929000</td>\n",
       "      <td>2016</td>\n",
       "      <td>16.0</td>\n",
       "      <td>2.24</td>\n",
       "      <td>84.4</td>\n",
       "      <td>3,851.10</td>\n",
       "      <td>459.97</td>\n",
       "      <td>75025</td>\n",
       "    </tr>\n",
       "    <tr>\n",
       "      <th>2</th>\n",
       "      <td>Virginia</td>\n",
       "      <td>4.404296e+09</td>\n",
       "      <td>3.8</td>\n",
       "      <td>8463587</td>\n",
       "      <td>367230.5000</td>\n",
       "      <td>775548.0833</td>\n",
       "      <td>1115536652</td>\n",
       "      <td>253.141792</td>\n",
       "      <td>119.865408</td>\n",
       "      <td>2017</td>\n",
       "      <td>22.0</td>\n",
       "      <td>1.39</td>\n",
       "      <td>53.6</td>\n",
       "      <td>3,904.70</td>\n",
       "      <td>467.36</td>\n",
       "      <td>78265</td>\n",
       "    </tr>\n",
       "    <tr>\n",
       "      <th>3</th>\n",
       "      <td>Virginia</td>\n",
       "      <td>4.526295e+09</td>\n",
       "      <td>3.0</td>\n",
       "      <td>8501286</td>\n",
       "      <td>352312.6667</td>\n",
       "      <td>736220.9167</td>\n",
       "      <td>1051800978</td>\n",
       "      <td>248.784925</td>\n",
       "      <td>119.054050</td>\n",
       "      <td>2018</td>\n",
       "      <td>21.0</td>\n",
       "      <td>1.32</td>\n",
       "      <td>51.5</td>\n",
       "      <td>3,956.20</td>\n",
       "      <td>477.92</td>\n",
       "      <td>83243</td>\n",
       "    </tr>\n",
       "    <tr>\n",
       "      <th>4</th>\n",
       "      <td>Virginia</td>\n",
       "      <td>4.493670e+09</td>\n",
       "      <td>2.8</td>\n",
       "      <td>8535519</td>\n",
       "      <td>318522.0000</td>\n",
       "      <td>654882.0000</td>\n",
       "      <td>1002380166</td>\n",
       "      <td>262.250000</td>\n",
       "      <td>127.550000</td>\n",
       "      <td>2019</td>\n",
       "      <td>23.0</td>\n",
       "      <td>1.22</td>\n",
       "      <td>48.2</td>\n",
       "      <td>4,004.40</td>\n",
       "      <td>489.20</td>\n",
       "      <td>86172</td>\n",
       "    </tr>\n",
       "  </tbody>\n",
       "</table>\n",
       "</div>"
      ],
      "text/plain": [
       "      State  Education Budget  Unemployment Rate  Population Estimate  \\\n",
       "0  Virginia      4.286211e+09                4.4              8361808   \n",
       "1  Virginia      4.352947e+09                4.1              8410106   \n",
       "2  Virginia      4.404296e+09                3.8              8463587   \n",
       "3  Virginia      4.526295e+09                3.0              8501286   \n",
       "4  Virginia      4.493670e+09                2.8              8535519   \n",
       "\n",
       "   SNAPS household_participants  SNAPS individual_participants  SNAPS cost  \\\n",
       "0                   404347.5833                    860374.7500  1230788073   \n",
       "1                   387632.5833                    826353.5833  1169412644   \n",
       "2                   367230.5000                    775548.0833  1115536652   \n",
       "3                   352312.6667                    736220.9167  1051800978   \n",
       "4                   318522.0000                    654882.0000  1002380166   \n",
       "\n",
       "   SNAPS cost_per_person  SNAPS cost_per_household  Year  U.S. Rank  % Change  \\\n",
       "0             253.657192                119.210467  2015       33.0      1.51   \n",
       "1             251.400575                117.929000  2016       16.0      2.24   \n",
       "2             253.141792                119.865408  2017       22.0      1.39   \n",
       "3             248.784925                119.054050  2018       21.0      1.32   \n",
       "4             262.250000                127.550000  2019       23.0      1.22   \n",
       "\n",
       "  Job Growth (In Thousands) # of Jobs (In Thousands)     GDP  Median Income  \n",
       "0                      55.9                 3,766.70  455.16          70315  \n",
       "1                      84.4                 3,851.10  459.97          75025  \n",
       "2                      53.6                 3,904.70  467.36          78265  \n",
       "3                      51.5                 3,956.20  477.92          83243  \n",
       "4                      48.2                 4,004.40  489.20          86172  "
      ]
     },
     "execution_count": 92,
     "metadata": {},
     "output_type": "execute_result"
    }
   ],
   "source": [
    "# X = df[[\"State\", \"Education Budget\", \"Unemployment Rate\", \"Population Estimate\", \"Year\", \"SNAPS cost\"]]\n",
    "X = df[['State','Education Budget','Unemployment Rate','Population Estimate','SNAPS household_participants',\n",
    "        'SNAPS individual_participants','SNAPS cost','SNAPS cost_per_person','SNAPS cost_per_household','Year']]\n",
    "# X.head()\n",
    "data_by_state = defaultdict(pd.core.frame.DataFrame)\n",
    "jg_by_state = defaultdict(pd.core.frame.DataFrame)\n",
    "states = set()\n",
    "\n",
    "# Loop over the rows of the employment data\n",
    "for index, row in X.iterrows():\n",
    "    state = row['State']\n",
    "    states.add(state)\n",
    "    data_by_state[state] = X[X['State'] == state].reset_index()\n",
    "\n",
    "# Loop over the rows of the job growth data\n",
    "for index, row in jobgrowth.iterrows():\n",
    "    state = row['State']\n",
    "    jg_by_state[state] = jobgrowth[jobgrowth['State'] == state].reset_index()\n",
    "\n",
    "\n",
    "for state in states:\n",
    "    # Concatenate the columns with the same years\n",
    "    if state == 'District of Columbia':\n",
    "        continue\n",
    "\n",
    "    df_concat = pd.concat([data_by_state[state], jg_by_state[state][['U.S. Rank','% Change','Job Growth (In Thousands)','# of Jobs (In Thousands)']]], axis=1)\n",
    "    df_concat = df_concat.drop(columns=['index'])\n",
    "    # Add the concatenated data to the dictionary by state\n",
    "    data_by_state[state] = df_concat\n",
    "    \n",
    "\n",
    "# Get GDP from 2015-2019 to add to Virginia's DF (Repeat for all states)\n",
    "va_year_range = gdp_va.iloc[15:20][['GDP']].reset_index().drop(columns=['index'])\n",
    "data_by_state['Virginia'] = pd.concat([data_by_state['Virginia'], va_year_range, income_va_range.drop(columns=['DATE'])], axis=1)\n",
    "\n",
    "\n",
    "# unemployed = []\n",
    "# snaps = []\n",
    "# education = []\n",
    "\n",
    "# # Poverty rate in virginia ~10.2%\n",
    "# # Poverse population YoY is roughly 1:1 to the population increase YoY (e.g., 10.2% of new citizens are also poverse)?\n",
    "# for index, row in data_by_state['Virginia'].iterrows():\n",
    "#     unemp_pop = np.ceil(row['Population Estimate'] * (row['Unemployment Rate'] / 100))\n",
    "#     edu_fund = row['Education Budget']\n",
    "#     education.append(edu_fund)\n",
    "#     unemployed.append(unemp_pop)\n",
    "#     snap_house = row['SNAPS household_participants']\n",
    "#     snaps.append(snap_house)\n",
    "\n",
    "#     if index == 0:\n",
    "#         print(f\"Year: {row['Year']}\\t Unemployed Population: {unemp_pop}\\n\\t\\t Snap house: {snap_house}\")\n",
    "#         print(f\"\\t\\tEducation Funding: {edu_fund}\\n\")\n",
    "#         continue\n",
    "    \n",
    "#     snap_change = snaps[index-1] - snap_house\n",
    "#     print(f\"Year: {row['Year']}\\t Unemployed Population: {unemp_pop} (Fewer unemployed: {unemployed[index-1] - unemp_pop})\\n\\t\\t\\tSnap house: {snap_house} (Fewer SNAP: {snaps[index-1] - snap_house})\")\n",
    "#     print(f\"\\t\\t\\tSNAPS Percent Change: {round((snap_change / snaps[index-1])*100, 2)}\")\n",
    "#     print(f\"\\t\\tEducation Budget: {edu_fund} (Change from Last Year: {edu_fund - education[index-1]})\\n\")\n",
    "    \n",
    "    \n",
    "data_by_state['Virginia'].head()"
   ]
  },
  {
   "cell_type": "code",
   "execution_count": 21,
   "id": "6048f502-12d1-410b-8ab8-897e72c4f432",
   "metadata": {
    "tags": []
   },
   "outputs": [
    {
     "name": "stdout",
     "output_type": "stream",
     "text": [
      "(251, 6)\n",
      "          State  Education Budget  Unemployment Rate  Population Estimate  \\\n",
      "0  2.729781e+09               6.1            4852347         4.179434e+05   \n",
      "1  4.152387e+08               6.5             737498         3.418733e+04   \n",
      "2  6.241051e+09               6.1            6829676         4.393297e+05   \n",
      "3  1.334963e+09               5.2            2978048         2.140558e+05   \n",
      "4  1.672784e+10               6.2           38918045         2.096960e+06   \n",
      "\n",
      "   Year  SNAPS cost  \n",
      "0   NaN  267.561450  \n",
      "1   NaN  409.641025  \n",
      "2   NaN  276.858275  \n",
      "3   NaN  252.570325  \n",
      "4   NaN  299.164858  \n"
     ]
    }
   ],
   "source": [
    "X = pd.get_dummies(data=X, drop_first=True)\n",
    "print(X.shape)\n",
    "print(X.head())"
   ]
  },
  {
   "cell_type": "code",
   "execution_count": 50,
   "id": "70e5e142-fe1a-4bbd-8068-eba8bbffc61d",
   "metadata": {
    "tags": []
   },
   "outputs": [
    {
     "name": "stdout",
     "output_type": "stream",
     "text": [
      "0      1341906577\n",
      "1       168054411\n",
      "2      1459584642\n",
      "3       648769562\n",
      "4      7528039778\n",
      "          ...    \n",
      "246    1002380166\n",
      "247    1192380309\n",
      "248     397899950\n",
      "249     778373061\n",
      "250      36277115\n",
      "Name: SNAPS cost, Length: 251, dtype: int64\n"
     ]
    }
   ],
   "source": [
    "y = df[\"SNAPS cost\"]\n",
    "print(y)\n",
    "\n",
    "# If we have the states respective SNAPS participation for that year then we should/would be predicting all\n",
    "# values for the next year (e.g., with past years figures we can predict with linear regression education budget, etc.)"
   ]
  },
  {
   "cell_type": "code",
   "execution_count": 6,
   "id": "8bda2d44-84f8-4cd1-b9ec-b154358be6c9",
   "metadata": {
    "tags": []
   },
   "outputs": [
    {
     "name": "stdout",
     "output_type": "stream",
     "text": [
      "(200, 4)\n",
      "(51, 4)\n",
      "(200,)\n",
      "(51,)\n"
     ]
    }
   ],
   "source": [
    "X_train, X_test, y_train, y_test = train_test_split(X, y, test_size=0.2, random_state=101)\n",
    "print(X_train.shape)\n",
    "print(X_test.shape)\n",
    "print(y_train.shape)\n",
    "print(y_test.shape)"
   ]
  },
  {
   "cell_type": "code",
   "execution_count": 19,
   "id": "95af77ed-09a4-43a8-8afd-f5be191ee679",
   "metadata": {
    "tags": []
   },
   "outputs": [
    {
     "name": "stdout",
     "output_type": "stream",
     "text": [
      "     Education Budget  Unemployment Rate  Population Estimate  Year\n",
      "55       2.724959e+09                3.3              5539215  2016\n",
      "108      8.794744e+09                4.2             20963613  2017\n",
      "104      1.708403e+10                4.8             39358497  2017\n",
      "160      4.573090e+08                2.4              1420593  2018\n",
      "39       2.202214e+09                6.0              4891938  2015\n",
      "..                ...                ...                  ...   ...\n",
      "63       3.654316e+09                4.4              6634304  2016\n",
      "70       4.033029e+09                3.9              6823608  2016\n",
      "81       1.120674e+10                4.8             19633428  2016\n",
      "11       6.798729e+08                4.1              1651059  2015\n",
      "95       4.352947e+09                4.1              8410106  2016\n",
      "\n",
      "[200 rows x 4 columns] 55      728042703\n",
      "108    4783367429\n",
      "104    6732719405\n",
      "160     469433045\n",
      "39     1208604782\n",
      "          ...    \n",
      "63     1068458926\n",
      "70     1189716303\n",
      "81     4922406430\n",
      "11      273758132\n",
      "95     1169412644\n",
      "Name: SNAPS cost, Length: 200, dtype: int64\n"
     ]
    },
    {
     "data": {
      "text/html": [
       "<style>#sk-container-id-7 {color: black;background-color: white;}#sk-container-id-7 pre{padding: 0;}#sk-container-id-7 div.sk-toggleable {background-color: white;}#sk-container-id-7 label.sk-toggleable__label {cursor: pointer;display: block;width: 100%;margin-bottom: 0;padding: 0.3em;box-sizing: border-box;text-align: center;}#sk-container-id-7 label.sk-toggleable__label-arrow:before {content: \"▸\";float: left;margin-right: 0.25em;color: #696969;}#sk-container-id-7 label.sk-toggleable__label-arrow:hover:before {color: black;}#sk-container-id-7 div.sk-estimator:hover label.sk-toggleable__label-arrow:before {color: black;}#sk-container-id-7 div.sk-toggleable__content {max-height: 0;max-width: 0;overflow: hidden;text-align: left;background-color: #f0f8ff;}#sk-container-id-7 div.sk-toggleable__content pre {margin: 0.2em;color: black;border-radius: 0.25em;background-color: #f0f8ff;}#sk-container-id-7 input.sk-toggleable__control:checked~div.sk-toggleable__content {max-height: 200px;max-width: 100%;overflow: auto;}#sk-container-id-7 input.sk-toggleable__control:checked~label.sk-toggleable__label-arrow:before {content: \"▾\";}#sk-container-id-7 div.sk-estimator input.sk-toggleable__control:checked~label.sk-toggleable__label {background-color: #d4ebff;}#sk-container-id-7 div.sk-label input.sk-toggleable__control:checked~label.sk-toggleable__label {background-color: #d4ebff;}#sk-container-id-7 input.sk-hidden--visually {border: 0;clip: rect(1px 1px 1px 1px);clip: rect(1px, 1px, 1px, 1px);height: 1px;margin: -1px;overflow: hidden;padding: 0;position: absolute;width: 1px;}#sk-container-id-7 div.sk-estimator {font-family: monospace;background-color: #f0f8ff;border: 1px dotted black;border-radius: 0.25em;box-sizing: border-box;margin-bottom: 0.5em;}#sk-container-id-7 div.sk-estimator:hover {background-color: #d4ebff;}#sk-container-id-7 div.sk-parallel-item::after {content: \"\";width: 100%;border-bottom: 1px solid gray;flex-grow: 1;}#sk-container-id-7 div.sk-label:hover label.sk-toggleable__label {background-color: #d4ebff;}#sk-container-id-7 div.sk-serial::before {content: \"\";position: absolute;border-left: 1px solid gray;box-sizing: border-box;top: 0;bottom: 0;left: 50%;z-index: 0;}#sk-container-id-7 div.sk-serial {display: flex;flex-direction: column;align-items: center;background-color: white;padding-right: 0.2em;padding-left: 0.2em;position: relative;}#sk-container-id-7 div.sk-item {position: relative;z-index: 1;}#sk-container-id-7 div.sk-parallel {display: flex;align-items: stretch;justify-content: center;background-color: white;position: relative;}#sk-container-id-7 div.sk-item::before, #sk-container-id-7 div.sk-parallel-item::before {content: \"\";position: absolute;border-left: 1px solid gray;box-sizing: border-box;top: 0;bottom: 0;left: 50%;z-index: -1;}#sk-container-id-7 div.sk-parallel-item {display: flex;flex-direction: column;z-index: 1;position: relative;background-color: white;}#sk-container-id-7 div.sk-parallel-item:first-child::after {align-self: flex-end;width: 50%;}#sk-container-id-7 div.sk-parallel-item:last-child::after {align-self: flex-start;width: 50%;}#sk-container-id-7 div.sk-parallel-item:only-child::after {width: 0;}#sk-container-id-7 div.sk-dashed-wrapped {border: 1px dashed gray;margin: 0 0.4em 0.5em 0.4em;box-sizing: border-box;padding-bottom: 0.4em;background-color: white;}#sk-container-id-7 div.sk-label label {font-family: monospace;font-weight: bold;display: inline-block;line-height: 1.2em;}#sk-container-id-7 div.sk-label-container {text-align: center;}#sk-container-id-7 div.sk-container {/* jupyter's `normalize.less` sets `[hidden] { display: none; }` but bootstrap.min.css set `[hidden] { display: none !important; }` so we also need the `!important` here to be able to override the default hidden behavior on the sphinx rendered scikit-learn.org. See: https://github.com/scikit-learn/scikit-learn/issues/21755 */display: inline-block !important;position: relative;}#sk-container-id-7 div.sk-text-repr-fallback {display: none;}</style><div id=\"sk-container-id-7\" class=\"sk-top-container\"><div class=\"sk-text-repr-fallback\"><pre>LinearRegression()</pre><b>In a Jupyter environment, please rerun this cell to show the HTML representation or trust the notebook. <br />On GitHub, the HTML representation is unable to render, please try loading this page with nbviewer.org.</b></div><div class=\"sk-container\" hidden><div class=\"sk-item\"><div class=\"sk-estimator sk-toggleable\"><input class=\"sk-toggleable__control sk-hidden--visually\" id=\"sk-estimator-id-7\" type=\"checkbox\" checked><label for=\"sk-estimator-id-7\" class=\"sk-toggleable__label sk-toggleable__label-arrow\">LinearRegression</label><div class=\"sk-toggleable__content\"><pre>LinearRegression()</pre></div></div></div></div></div>"
      ],
      "text/plain": [
       "LinearRegression()"
      ]
     },
     "execution_count": 19,
     "metadata": {},
     "output_type": "execute_result"
    }
   ],
   "source": [
    "model = LinearRegression()\n",
    "print(X_train, y_train)\n",
    "model.fit(X_train,y_train)"
   ]
  },
  {
   "cell_type": "code",
   "execution_count": 8,
   "id": "6bc7a7bb-636a-4246-bed0-ad1b8367bb9b",
   "metadata": {
    "tags": []
   },
   "outputs": [
    {
     "name": "stdout",
     "output_type": "stream",
     "text": [
      "52822728799.19895\n"
     ]
    }
   ],
   "source": [
    "print(model.intercept_)"
   ]
  },
  {
   "cell_type": "code",
   "execution_count": 41,
   "id": "746e76d4-57d3-46af-bd44-e59fdde3daff",
   "metadata": {
    "tags": []
   },
   "outputs": [
    {
     "data": {
      "text/html": [
       "<div>\n",
       "<style scoped>\n",
       "    .dataframe tbody tr th:only-of-type {\n",
       "        vertical-align: middle;\n",
       "    }\n",
       "\n",
       "    .dataframe tbody tr th {\n",
       "        vertical-align: top;\n",
       "    }\n",
       "\n",
       "    .dataframe thead th {\n",
       "        text-align: right;\n",
       "    }\n",
       "</style>\n",
       "<table border=\"1\" class=\"dataframe\">\n",
       "  <thead>\n",
       "    <tr style=\"text-align: right;\">\n",
       "      <th></th>\n",
       "      <th>Education budget</th>\n",
       "      <th>Unemployment</th>\n",
       "      <th>Population</th>\n",
       "      <th>Year</th>\n",
       "      <th>Snap (Prediction)</th>\n",
       "    </tr>\n",
       "  </thead>\n",
       "  <tbody>\n",
       "    <tr>\n",
       "      <th>0</th>\n",
       "      <td>4.473198e+09</td>\n",
       "      <td>3.9</td>\n",
       "      <td>10381615.0</td>\n",
       "      <td>2018.0</td>\n",
       "      <td>1.873046e+09</td>\n",
       "    </tr>\n",
       "    <tr>\n",
       "      <th>1</th>\n",
       "      <td>3.770574e+09</td>\n",
       "      <td>3.3</td>\n",
       "      <td>5639632.0</td>\n",
       "      <td>2019.0</td>\n",
       "      <td>9.911604e+08</td>\n",
       "    </tr>\n",
       "    <tr>\n",
       "      <th>2</th>\n",
       "      <td>2.448102e+09</td>\n",
       "      <td>4.4</td>\n",
       "      <td>6003323.0</td>\n",
       "      <td>2016.0</td>\n",
       "      <td>1.159691e+09</td>\n",
       "    </tr>\n",
       "    <tr>\n",
       "      <th>3</th>\n",
       "      <td>1.158363e+10</td>\n",
       "      <td>4.1</td>\n",
       "      <td>19530351.0</td>\n",
       "      <td>2018.0</td>\n",
       "      <td>3.805464e+09</td>\n",
       "    </tr>\n",
       "    <tr>\n",
       "      <th>4</th>\n",
       "      <td>3.503643e+09</td>\n",
       "      <td>4.1</td>\n",
       "      <td>8886025.0</td>\n",
       "      <td>2018.0</td>\n",
       "      <td>1.595833e+09</td>\n",
       "    </tr>\n",
       "  </tbody>\n",
       "</table>\n",
       "</div>"
      ],
      "text/plain": [
       "   Education budget  Unemployment  Population    Year  Snap (Prediction)\n",
       "0      4.473198e+09           3.9  10381615.0  2018.0       1.873046e+09\n",
       "1      3.770574e+09           3.3   5639632.0  2019.0       9.911604e+08\n",
       "2      2.448102e+09           4.4   6003323.0  2016.0       1.159691e+09\n",
       "3      1.158363e+10           4.1  19530351.0  2018.0       3.805464e+09\n",
       "4      3.503643e+09           4.1   8886025.0  2018.0       1.595833e+09"
      ]
     },
     "execution_count": 41,
     "metadata": {},
     "output_type": "execute_result"
    }
   ],
   "source": [
    "# Predict what the SNAP funding will be for that year given their education budget, unemployment, and population\n",
    "predictions = model.predict(X_test)\n",
    "predDf = pd.DataFrame(predictions, columns=['SNAP Funding (Prediction)'])\n",
    "\n",
    "# Mapping SNAP cost to test values\n",
    "df = pd.DataFrame(np.column_stack([X_test, predictions]), columns=['Education budget', 'Unemployment', 'Population', 'Year', 'Snap (Prediction)'])\n",
    "df.head()\n"
   ]
  },
  {
   "cell_type": "code",
   "execution_count": 10,
   "id": "390ad0cd-2977-44c7-a398-247b24e3800c",
   "metadata": {
    "tags": []
   },
   "outputs": [
    {
     "data": {
      "text/plain": [
       "<Axes: xlabel='SNAPS cost'>"
      ]
     },
     "execution_count": 10,
     "metadata": {},
     "output_type": "execute_result"
    },
    {
     "data": {
      "image/png": "[encoded data removed]",
      "text/plain": [
       "<Figure size 640x480 with 1 Axes>"
      ]
     },
     "metadata": {},
     "output_type": "display_data"
    }
   ],
   "source": [
    "sns.regplot(x=y_test,y=predictions)"
   ]
  },
  {
   "cell_type": "code",
   "execution_count": 11,
   "id": "4958b39b-db16-4cb2-870d-c51ca51b68a3",
   "metadata": {
    "tags": []
   },
   "outputs": [
    {
     "name": "stdout",
     "output_type": "stream",
     "text": [
      "                            OLS Regression Results                            \n",
      "==============================================================================\n",
      "Dep. Variable:             SNAPS cost   R-squared:                       0.947\n",
      "Model:                            OLS   Adj. R-squared:                  0.946\n",
      "Method:                 Least Squares   F-statistic:                     874.2\n",
      "Date:                Tue, 18 Apr 2023   Prob (F-statistic):          2.79e-123\n",
      "Time:                        12:18:57   Log-Likelihood:                -4196.4\n",
      "No. Observations:                 200   AIC:                             8403.\n",
      "Df Residuals:                     195   BIC:                             8419.\n",
      "Df Model:                           4                                         \n",
      "Covariance Type:            nonrobust                                         \n",
      "=======================================================================================\n",
      "                          coef    std err          t      P>|t|      [0.025      0.975]\n",
      "---------------------------------------------------------------------------------------\n",
      "const                5.282e+10   3.69e+10      1.433      0.153   -1.99e+10    1.26e+11\n",
      "Education Budget        0.0674      0.033      2.045      0.042       0.002       0.132\n",
      "Unemployment Rate    1.104e+08   2.42e+07      4.567      0.000    6.28e+07    1.58e+08\n",
      "Population Estimate   156.4473     14.893     10.505      0.000     127.076     185.819\n",
      "Year                -2.642e+07   1.82e+07     -1.448      0.149   -6.24e+07    9.57e+06\n",
      "==============================================================================\n",
      "Omnibus:                       62.380   Durbin-Watson:                   1.977\n",
      "Prob(Omnibus):                  0.000   Jarque-Bera (JB):              467.745\n",
      "Skew:                           0.936   Prob(JB):                    2.69e-102\n",
      "Kurtosis:                      10.254   Cond. No.                     7.14e+12\n",
      "==============================================================================\n",
      "\n",
      "Notes:\n",
      "[1] Standard Errors assume that the covariance matrix of the errors is correctly specified.\n",
      "[2] The condition number is large, 7.14e+12. This might indicate that there are\n",
      "strong multicollinearity or other numerical problems.\n"
     ]
    }
   ],
   "source": [
    "X_train_Sm= sm.add_constant(X_train)\n",
    "ls=sm.OLS(y_train,X_train_Sm).fit()\n",
    "print(ls.summary())"
   ]
  },
  {
   "cell_type": "code",
   "execution_count": null,
   "id": "e1d5da62-bea1-4dae-82e5-8b49254c48b4",
   "metadata": {
    "tags": []
   },
   "outputs": [],
   "source": []
  },
  {
   "cell_type": "code",
   "execution_count": null,
   "id": "721f9fa6-0e9c-4d4d-b626-ab2c80605270",
   "metadata": {
    "tags": []
   },
   "outputs": [],
   "source": []
  },
  {
   "cell_type": "code",
   "execution_count": null,
   "id": "ab37526c-998b-48d4-9399-daf2ea4c5d1c",
   "metadata": {
    "tags": []
   },
   "outputs": [],
   "source": []
  },
  {
   "cell_type": "code",
   "execution_count": null,
   "id": "e209e63b-5c7b-4264-a3ff-261df58bbf5c",
   "metadata": {
    "tags": []
   },
   "outputs": [],
   "source": []
  }
 ],
 "metadata": {
  "kernelspec": {
   "display_name": "Python 3 (ipykernel)",
   "language": "python",
   "name": "python3"
  },
  "language_info": {
   "codemirror_mode": {
    "name": "ipython",
    "version": 3
   },
   "file_extension": ".py",
   "mimetype": "text/x-python",
   "name": "python",
   "nbconvert_exporter": "python",
   "pygments_lexer": "ipython3",
   "version": "3.9.7"
  }
 },
 "nbformat": 4,
 "nbformat_minor": 5
}
